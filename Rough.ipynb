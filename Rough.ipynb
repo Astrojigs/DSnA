{
 "cells": [
  {
   "cell_type": "code",
   "execution_count": 1,
   "id": "59ffc08c",
   "metadata": {},
   "outputs": [
    {
     "name": "stderr",
     "output_type": "stream",
     "text": [
      "c:\\users\\astro\\appdata\\local\\programs\\python\\python38\\lib\\site-packages\\numpy\\_distributor_init.py:30: UserWarning: loaded more than 1 DLL from .libs:\n",
      "c:\\users\\astro\\appdata\\local\\programs\\python\\python38\\lib\\site-packages\\numpy\\.libs\\libopenblas.el2c6ple4zyw3eceviv3oxxgrn2nrfm2.gfortran-win_amd64.dll\n",
      "c:\\users\\astro\\appdata\\local\\programs\\python\\python38\\lib\\site-packages\\numpy\\.libs\\libopenblas.PYQHXLVVQ7VESDPUVUADXEVJOBGHJPAY.gfortran-win_amd64.dll\n",
      "  warnings.warn(\"loaded more than 1 DLL from .libs:\"\n"
     ]
    }
   ],
   "source": [
    "import numpy as np"
   ]
  },
  {
   "cell_type": "code",
   "execution_count": 2,
   "id": "ccbd8e33",
   "metadata": {},
   "outputs": [],
   "source": [
    "import itertools"
   ]
  },
  {
   "cell_type": "code",
   "execution_count": 42,
   "id": "36f6d130",
   "metadata": {},
   "outputs": [],
   "source": [
    "arr = np.random.randint(1,100,size=10)"
   ]
  },
  {
   "cell_type": "code",
   "execution_count": 43,
   "id": "6c5a5400",
   "metadata": {},
   "outputs": [
    {
     "data": {
      "text/plain": [
       "array([58, 75, 26,  3, 68, 34, 39, 45, 49, 40])"
      ]
     },
     "execution_count": 43,
     "metadata": {},
     "output_type": "execute_result"
    }
   ],
   "source": [
    "arr"
   ]
  },
  {
   "cell_type": "code",
   "execution_count": 44,
   "id": "7481f3ec",
   "metadata": {},
   "outputs": [],
   "source": [
    "k,v = [x for x in range(100)], list(np.repeat(0,100))"
   ]
  },
  {
   "cell_type": "code",
   "execution_count": 45,
   "id": "d24be9a3",
   "metadata": {},
   "outputs": [],
   "source": [
    "d = {}\n",
    "for i in range(len(k)):\n",
    "    d[k[i]] = v[i]"
   ]
  },
  {
   "cell_type": "code",
   "execution_count": 46,
   "id": "534d8b0d",
   "metadata": {},
   "outputs": [],
   "source": [
    "l1 = [1,1,2,2,3]"
   ]
  },
  {
   "cell_type": "code",
   "execution_count": 47,
   "id": "e976bbe1",
   "metadata": {},
   "outputs": [],
   "source": [
    "for x in l1:\n",
    "    if x in d.keys():\n",
    "        d[x]+=1\n"
   ]
  },
  {
   "cell_type": "code",
   "execution_count": 48,
   "id": "565ef28c",
   "metadata": {},
   "outputs": [
    {
     "data": {
      "text/plain": [
       "[3]"
      ]
     },
     "execution_count": 48,
     "metadata": {},
     "output_type": "execute_result"
    }
   ],
   "source": [
    "[k for k in d if d[k]==1]"
   ]
  },
  {
   "cell_type": "code",
   "execution_count": 29,
   "id": "45812a83",
   "metadata": {},
   "outputs": [],
   "source": [
    "k, v = [x for x in range(1,101)], list(np.zeros_like(k))"
   ]
  },
  {
   "cell_type": "code",
   "execution_count": 40,
   "id": "f5e27387",
   "metadata": {},
   "outputs": [
    {
     "data": {
      "text/plain": [
       "(0, 0)"
      ]
     },
     "execution_count": 40,
     "metadata": {},
     "output_type": "execute_result"
    }
   ],
   "source": []
  },
  {
   "cell_type": "code",
   "execution_count": 49,
   "id": "2a638fac",
   "metadata": {},
   "outputs": [],
   "source": [
    "def find_lonely(arr):\n",
    "    \"\"\"\n",
    "    \"\"\"\n",
    "    d = {}\n",
    "    k, v = [x for x in range(1,101)], list(np.zeros_like(k))\n",
    "    \n",
    "    for i in range(len(k)):\n",
    "        d[k[i]] = v[i]\n",
    "    \n",
    "    for x in arr:\n",
    "        if x in d.keys():\n",
    "            d[x] +=1\n",
    "            \n",
    "    value = [k for k in d if d[k]==1]\n",
    "    return value[0]"
   ]
  },
  {
   "cell_type": "code",
   "execution_count": null,
   "id": "762a6336",
   "metadata": {},
   "outputs": [],
   "source": [
    "find_lonely"
   ]
  },
  {
   "cell_type": "markdown",
   "id": "cabe18b4",
   "metadata": {},
   "source": [
    "# Timing two functions:"
   ]
  },
  {
   "cell_type": "markdown",
   "id": "942b38dd",
   "metadata": {},
   "source": [
    "## 1 using n^2"
   ]
  },
  {
   "cell_type": "code",
   "execution_count": 51,
   "id": "40f8b0b2",
   "metadata": {},
   "outputs": [],
   "source": [
    "def find_l1(a):\n",
    "    \"\"\"\n",
    "    Finds the unique integer from a list\n",
    "    \"\"\"\n",
    "    # Unique list\n",
    "    u_l = []\n",
    "    for x in a:\n",
    "        if a.count(x) == 1:\n",
    "            return x"
   ]
  },
  {
   "cell_type": "code",
   "execution_count": 62,
   "id": "a6f8b3df",
   "metadata": {},
   "outputs": [],
   "source": [
    "def lonelyinteger(a):\n",
    "    d = {}\n",
    "    k, v = [x for x in range(1,101)], [0 for x in range(1,101)]\n",
    "    \n",
    "    for i in range(len(k)):\n",
    "        d[k[i]] = v[i]\n",
    "    \n",
    "    for x in a:\n",
    "        if x in d.keys():\n",
    "            d[x] +=1\n",
    "            \n",
    "    value = [k for k in d if d[k]==1]\n",
    "    return value[0]"
   ]
  },
  {
   "cell_type": "code",
   "execution_count": 58,
   "id": "e69ffbe0",
   "metadata": {},
   "outputs": [
    {
     "name": "stdout",
     "output_type": "stream",
     "text": [
      "84 48 13 20 61 20 33 97 34 45 6 63 71 66 24 57 92 74 6 25 51 86 48 15 64 55 77 30 56 53 37 99 9 59 57 61 30 97 50 63 59 62 39 32 34 4 96 51 8 86 10 62 16 55 81 88 71 25 27 78 79 88 92 50 16 8 67 82 67 37 84 3 33 4 78 98 39 64 98 94 24 82 45 3 53 74 96 9 10 94 13 79 15 27 56 66 32 81 77\n"
     ]
    }
   ],
   "source": [
    "a = list(map(int, input().rstrip().split()))"
   ]
  },
  {
   "cell_type": "code",
   "execution_count": null,
   "id": "6246dd98",
   "metadata": {},
   "outputs": [],
   "source": []
  },
  {
   "cell_type": "code",
   "execution_count": 103,
   "id": "020bb8cf",
   "metadata": {},
   "outputs": [
    {
     "name": "stdout",
     "output_type": "stream",
     "text": [
      "64.6 µs ± 7.65 µs per loop (mean ± std. dev. of 7 runs, 10000 loops each)\n"
     ]
    }
   ],
   "source": [
    "%%timeit\n",
    "find_l1(a)"
   ]
  },
  {
   "cell_type": "code",
   "execution_count": 101,
   "id": "414b956e",
   "metadata": {},
   "outputs": [
    {
     "name": "stdout",
     "output_type": "stream",
     "text": [
      "83.7 µs ± 5.1 µs per loop (mean ± std. dev. of 7 runs, 10000 loops each)\n"
     ]
    }
   ],
   "source": [
    "%%timeit\n",
    "lonelyinteger(a)"
   ]
  },
  {
   "cell_type": "code",
   "execution_count": 64,
   "id": "9e1987fe",
   "metadata": {},
   "outputs": [],
   "source": [
    "import time"
   ]
  },
  {
   "cell_type": "code",
   "execution_count": 67,
   "id": "491dc62e",
   "metadata": {},
   "outputs": [
    {
     "data": {
      "text/plain": [
       "0.0"
      ]
     },
     "execution_count": 67,
     "metadata": {},
     "output_type": "execute_result"
    }
   ],
   "source": [
    "start_time = time.()\n",
    "find_l1(a)\n",
    "end_time = time.time()\n",
    "\n",
    "end_time - start_time"
   ]
  },
  {
   "cell_type": "code",
   "execution_count": 99,
   "id": "0f42da75",
   "metadata": {},
   "outputs": [
    {
     "name": "stdout",
     "output_type": "stream",
     "text": [
      "bruh\n"
     ]
    },
    {
     "data": {
      "text/plain": [
       "0"
      ]
     },
     "execution_count": 99,
     "metadata": {},
     "output_type": "execute_result"
    }
   ],
   "source": [
    "start = time.process_time_ns()\n",
    "\n",
    "print('bruh')\n",
    "\n",
    "(time.process_time_ns() - start)"
   ]
  },
  {
   "cell_type": "code",
   "execution_count": 131,
   "id": "8c971d47",
   "metadata": {},
   "outputs": [],
   "source": [
    "# Linked List\n",
    "\n",
    "class Node():\n",
    "    def __init__(self, data=None):\n",
    "        self.data = data\n",
    "        self.next = None\n",
    "        \n",
    "class Linked_list():\n",
    "    def __init__(self):\n",
    "        self.head = Node()\n",
    "    \n",
    "    def append(self, data):\n",
    "        \"\"\"\n",
    "        adds a data point at the end of the linked list.\n",
    "        \"\"\"\n",
    "        new_node = Node(data)\n",
    "        cur = self.head\n",
    "        while cur.next != None:\n",
    "            cur = cur.next\n",
    "        cur.next = new_node\n",
    "        \n",
    "    def length(self):\n",
    "        cur = self.head\n",
    "        total = 0\n",
    "        while cur.next!=None:\n",
    "            total +=1\n",
    "            cur = cur.next\n",
    "        return total\n",
    "    \n",
    "    def display(self):\n",
    "        elems = []\n",
    "        cur_node = self.head\n",
    "        while cur_node!= None:\n",
    "            elems.append(cur_node.data)\n",
    "            cur_node = cur_node.next\n",
    "        print(elems)"
   ]
  },
  {
   "cell_type": "code",
   "execution_count": null,
   "id": "cac752a4",
   "metadata": {},
   "outputs": [],
   "source": []
  },
  {
   "cell_type": "code",
   "execution_count": 132,
   "id": "2c3a0645",
   "metadata": {},
   "outputs": [
    {
     "name": "stdout",
     "output_type": "stream",
     "text": [
      "<__main__.Linked_list object at 0x0000022E4E71B5E0>\n"
     ]
    }
   ],
   "source": [
    "# Examples:\n",
    "\n",
    "l1 = Linked_list()\n",
    "print(l1)"
   ]
  },
  {
   "cell_type": "code",
   "execution_count": 133,
   "id": "99a78f7b",
   "metadata": {},
   "outputs": [
    {
     "name": "stdout",
     "output_type": "stream",
     "text": [
      "[None, 1, 2]\n"
     ]
    }
   ],
   "source": [
    "l1.append(1)\n",
    "l1.append(2)\n",
    "l1.display()"
   ]
  },
  {
   "cell_type": "code",
   "execution_count": 1,
   "id": "0a5fcd3a",
   "metadata": {},
   "outputs": [
    {
     "name": "stderr",
     "output_type": "stream",
     "text": [
      "c:\\users\\astro\\appdata\\local\\programs\\python\\python38\\lib\\site-packages\\numpy\\_distributor_init.py:30: UserWarning: loaded more than 1 DLL from .libs:\n",
      "c:\\users\\astro\\appdata\\local\\programs\\python\\python38\\lib\\site-packages\\numpy\\.libs\\libopenblas.el2c6ple4zyw3eceviv3oxxgrn2nrfm2.gfortran-win_amd64.dll\n",
      "c:\\users\\astro\\appdata\\local\\programs\\python\\python38\\lib\\site-packages\\numpy\\.libs\\libopenblas.PYQHXLVVQ7VESDPUVUADXEVJOBGHJPAY.gfortran-win_amd64.dll\n",
      "  warnings.warn(\"loaded more than 1 DLL from .libs:\"\n"
     ]
    }
   ],
   "source": [
    "import numpy as np\n"
   ]
  },
  {
   "cell_type": "code",
   "execution_count": 7,
   "id": "4770ae34",
   "metadata": {},
   "outputs": [],
   "source": [
    "arr = np.random.randint(1,40,10)"
   ]
  },
  {
   "cell_type": "code",
   "execution_count": 11,
   "id": "71ae561b",
   "metadata": {},
   "outputs": [
    {
     "data": {
      "text/plain": [
       "array([ 6,  5, 31, 32, 16, 15,  1, 20, 24,  5])"
      ]
     },
     "execution_count": 11,
     "metadata": {},
     "output_type": "execute_result"
    }
   ],
   "source": [
    "arr"
   ]
  },
  {
   "cell_type": "code",
   "execution_count": 12,
   "id": "a216002d",
   "metadata": {},
   "outputs": [],
   "source": [
    "import time"
   ]
  },
  {
   "cell_type": "code",
   "execution_count": null,
   "id": "f564fec3",
   "metadata": {},
   "outputs": [],
   "source": [
    "# Sleeping sort\n",
    "\n",
    "def sleep_sort(arr):\n",
    "    for i in arr:\n",
    "        time.sleep(i/1000)\n",
    "        "
   ]
  }
 ],
 "metadata": {
  "kernelspec": {
   "display_name": "Python 3",
   "language": "python",
   "name": "python3"
  },
  "language_info": {
   "codemirror_mode": {
    "name": "ipython",
    "version": 3
   },
   "file_extension": ".py",
   "mimetype": "text/x-python",
   "name": "python",
   "nbconvert_exporter": "python",
   "pygments_lexer": "ipython3",
   "version": "3.8.0"
  }
 },
 "nbformat": 4,
 "nbformat_minor": 5
}
