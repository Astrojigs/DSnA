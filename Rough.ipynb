{
 "cells": [
  {
   "cell_type": "code",
   "execution_count": 34,
   "id": "cf662279",
   "metadata": {},
   "outputs": [],
   "source": [
    "import numpy as np"
   ]
  },
  {
   "cell_type": "code",
   "execution_count": 35,
   "id": "92ba4575",
   "metadata": {},
   "outputs": [],
   "source": [
    "import itertools"
   ]
  },
  {
   "cell_type": "code",
   "execution_count": 42,
   "id": "a41bcac9",
   "metadata": {},
   "outputs": [],
   "source": [
    "arr = np.random.randint(1,100,size=10)"
   ]
  },
  {
   "cell_type": "code",
   "execution_count": 43,
   "id": "cbf669ba",
   "metadata": {},
   "outputs": [
    {
     "data": {
      "text/plain": [
       "array([58, 75, 26,  3, 68, 34, 39, 45, 49, 40])"
      ]
     },
     "execution_count": 43,
     "metadata": {},
     "output_type": "execute_result"
    }
   ],
   "source": [
    "arr"
   ]
  },
  {
   "cell_type": "code",
   "execution_count": 44,
   "id": "76a311ef",
   "metadata": {},
   "outputs": [],
   "source": [
    "k,v = [x for x in range(100)], list(np.repeat(0,100))"
   ]
  },
  {
   "cell_type": "code",
   "execution_count": 45,
   "id": "8858e8ff",
   "metadata": {},
   "outputs": [],
   "source": [
    "d = {}\n",
    "for i in range(len(k)):\n",
    "    d[k[i]] = v[i]"
   ]
  },
  {
   "cell_type": "code",
   "execution_count": 46,
   "id": "52cc65bd",
   "metadata": {},
   "outputs": [],
   "source": [
    "l1 = [1,1,2,2,3]"
   ]
  },
  {
   "cell_type": "code",
   "execution_count": 47,
   "id": "efdc7241",
   "metadata": {},
   "outputs": [],
   "source": [
    "for x in l1:\n",
    "    if x in d.keys():\n",
    "        d[x]+=1\n"
   ]
  },
  {
   "cell_type": "code",
   "execution_count": 48,
   "id": "4624b48e",
   "metadata": {},
   "outputs": [
    {
     "data": {
      "text/plain": [
       "[3]"
      ]
     },
     "execution_count": 48,
     "metadata": {},
     "output_type": "execute_result"
    }
   ],
   "source": [
    "[k for k in d if d[k]==1]"
   ]
  },
  {
   "cell_type": "code",
   "execution_count": 29,
   "id": "7b20416f",
   "metadata": {},
   "outputs": [],
   "source": [
    "k, v = [x for x in range(1,101)], list(np.zeros_like(k))"
   ]
  },
  {
   "cell_type": "code",
   "execution_count": 49,
   "id": "99d9c4e8",
   "metadata": {},
   "outputs": [],
   "source": [
    "def find_lonely(arr):\n",
    "    \"\"\"\n",
    "    \"\"\"\n",
    "    d = {}\n",
    "    k, v = [x for x in range(1,101)], list(np.zeros_like(k))\n",
    "    \n",
    "    for i in range(len(k)):\n",
    "        d[k[i]] = v[i]\n",
    "    \n",
    "    for x in arr:\n",
    "        if x in d.keys():\n",
    "            d[x] +=1\n",
    "            \n",
    "    value = [k for k in d if d[k]==1]\n",
    "    return value[0]"
   ]
  },
  {
   "cell_type": "code",
   "execution_count": null,
   "id": "44cb6535",
   "metadata": {},
   "outputs": [],
   "source": [
    "find_lonely"
   ]
  },
  {
   "cell_type": "markdown",
   "id": "e110ef2c",
   "metadata": {},
   "source": [
    "# Timing two functions:"
   ]
  },
  {
   "cell_type": "markdown",
   "id": "c0d3f706",
   "metadata": {},
   "source": [
    "## 1 using n^2"
   ]
  },
  {
   "cell_type": "code",
   "execution_count": 51,
   "id": "fa6e1ee1",
   "metadata": {},
   "outputs": [],
   "source": [
    "def find_l1(a):\n",
    "    \"\"\"\n",
    "    Finds the unique integer from a list\n",
    "    \"\"\"\n",
    "    # Unique list\n",
    "    u_l = []\n",
    "    for x in a:\n",
    "        if a.count(x) == 1:\n",
    "            return x"
   ]
  },
  {
   "cell_type": "code",
   "execution_count": 62,
   "id": "46453ba3",
   "metadata": {},
   "outputs": [],
   "source": [
    "def lonelyinteger(a):\n",
    "    d = {}\n",
    "    k, v = [x for x in range(1,101)], [0 for x in range(1,101)]\n",
    "    \n",
    "    for i in range(len(k)):\n",
    "        d[k[i]] = v[i]\n",
    "    \n",
    "    for x in a:\n",
    "        if x in d.keys():\n",
    "            d[x] +=1\n",
    "            \n",
    "    value = [k for k in d if d[k]==1]\n",
    "    return value[0]"
   ]
  },
  {
   "cell_type": "code",
   "execution_count": 58,
   "id": "28194645",
   "metadata": {},
   "outputs": [
    {
     "name": "stdout",
     "output_type": "stream",
     "text": [
      "84 48 13 20 61 20 33 97 34 45 6 63 71 66 24 57 92 74 6 25 51 86 48 15 64 55 77 30 56 53 37 99 9 59 57 61 30 97 50 63 59 62 39 32 34 4 96 51 8 86 10 62 16 55 81 88 71 25 27 78 79 88 92 50 16 8 67 82 67 37 84 3 33 4 78 98 39 64 98 94 24 82 45 3 53 74 96 9 10 94 13 79 15 27 56 66 32 81 77\n"
     ]
    }
   ],
   "source": [
    "a = list(map(int, input().rstrip().split()))"
   ]
  },
  {
   "cell_type": "code",
   "execution_count": null,
   "id": "11235d93",
   "metadata": {},
   "outputs": [],
   "source": []
  },
  {
   "cell_type": "code",
   "execution_count": 103,
   "id": "c4b4de6e",
   "metadata": {},
   "outputs": [
    {
     "name": "stdout",
     "output_type": "stream",
     "text": [
      "64.6 µs ± 7.65 µs per loop (mean ± std. dev. of 7 runs, 10000 loops each)\n"
     ]
    }
   ],
   "source": [
    "%%timeit\n",
    "find_l1(a)"
   ]
  },
  {
   "cell_type": "code",
   "execution_count": 101,
   "id": "96cc91e0",
   "metadata": {},
   "outputs": [
    {
     "name": "stdout",
     "output_type": "stream",
     "text": [
      "83.7 µs ± 5.1 µs per loop (mean ± std. dev. of 7 runs, 10000 loops each)\n"
     ]
    }
   ],
   "source": [
    "%%timeit\n",
    "lonelyinteger(a)"
   ]
  },
  {
   "cell_type": "code",
   "execution_count": 64,
   "id": "b76992ae",
   "metadata": {},
   "outputs": [],
   "source": [
    "import time"
   ]
  },
  {
   "cell_type": "code",
   "execution_count": 67,
   "id": "cb856ebd",
   "metadata": {},
   "outputs": [
    {
     "data": {
      "text/plain": [
       "0.0"
      ]
     },
     "execution_count": 67,
     "metadata": {},
     "output_type": "execute_result"
    }
   ],
   "source": [
    "start_time = time.()\n",
    "find_l1(a)\n",
    "end_time = time.time()\n",
    "\n",
    "end_time - start_time"
   ]
  },
  {
   "cell_type": "code",
   "execution_count": 99,
   "id": "0b4961da",
   "metadata": {},
   "outputs": [
    {
     "name": "stdout",
     "output_type": "stream",
     "text": [
      "bruh\n"
     ]
    },
    {
     "data": {
      "text/plain": [
       "0"
      ]
     },
     "execution_count": 99,
     "metadata": {},
     "output_type": "execute_result"
    }
   ],
   "source": [
    "start = time.process_time_ns()\n",
    "\n",
    "print('bruh')\n",
    "\n",
    "(time.process_time_ns() - start)"
   ]
  },
  {
   "cell_type": "code",
   "execution_count": 36,
   "id": "1d7a70c7",
   "metadata": {},
   "outputs": [],
   "source": [
    "# Linked List\n",
    "\n",
    "class Node():\n",
    "    def __init__(self, data=None):\n",
    "        self.data = data\n",
    "        self.next = None\n",
    "        \n",
    "class Linked_list():\n",
    "    def __init__(self):\n",
    "        self.head = Node()\n",
    "    \n",
    "    def append(self, data):\n",
    "        \"\"\"\n",
    "        adds a data point at the end of the linked list.\n",
    "        \"\"\"\n",
    "        new_node = Node(data)\n",
    "        cur = self.head\n",
    "        while cur.next != None:\n",
    "            cur = cur.next\n",
    "        cur.next = new_node\n",
    "        \n",
    "    def length(self):\n",
    "        cur = self.head\n",
    "        total = 0\n",
    "        while cur.next!=None:\n",
    "            total +=1\n",
    "            cur = cur.next\n",
    "        return total\n",
    "    \n",
    "    def display(self):\n",
    "        elems = []\n",
    "        cur_node = self.head\n",
    "        while cur_node!= None:\n",
    "            elems.append(cur_node.data)\n",
    "            cur_node = cur_node.next\n",
    "        print(elems)"
   ]
  },
  {
   "cell_type": "markdown",
   "id": "ebed92f2",
   "metadata": {},
   "source": [
    "# Tree"
   ]
  },
  {
   "cell_type": "code",
   "execution_count": 107,
   "id": "3472a48a",
   "metadata": {},
   "outputs": [],
   "source": [
    "class Node:\n",
    "    def __init__(self, name, depth = 0):\n",
    "        '''\n",
    "        name = str\n",
    "        children = list of col_names to look for, for each unique element in the parent column\n",
    "        for example:\n",
    "            parent column contains only any of the two values for each row.\n",
    "                Malignant or Benign\n",
    "            if Malignant:\n",
    "                see this column name in df:\n",
    "            if benign:\n",
    "                see this column name in df\n",
    "        '''\n",
    "        self.name = name\n",
    "        self.children = []\n",
    "        \n",
    "        # tasks containts list of col names that need to be checked. For e.g. do task one for child one in self.children.\n",
    "        self.tasks = []\n",
    "        self.parent = None\n",
    "        \n",
    "        # how deep is the tree (if eg. depth = 4, print 4 tabs before printing the count)\n",
    "        self.depth = depth\n",
    "        "
   ]
  },
  {
   "cell_type": "code",
   "execution_count": 49,
   "id": "b9a37cb8",
   "metadata": {},
   "outputs": [],
   "source": [
    "# class Tree_DF:\n",
    "#     def __init__(self, df, parent=''):\n",
    "#         self.df = df\n",
    "#         self.node_setup(parent)\n",
    "        \n",
    "#     def node_setup(self,name=''):\n",
    "#         dummy_node = Node(name)\n",
    "#         self.parent.children = self.df[parent].unique().tolist() # op: a list of unique elements in the parent col\n",
    "#         for i in self.parent.children:\n",
    "#             self.parent.tasks.append(Node(input(f\"If parent Node = {self.parent.name}\\n And Element = {i}\\n then, check column name: \")))\n",
    "#             print('Note: If No task is there for a child (i.e. no columns to be checked for a particular value, then leave blank)')\n",
    "        \n",
    "#     def automate(self):\n",
    "        \n",
    "        \n",
    "        "
   ]
  },
  {
   "cell_type": "code",
   "execution_count": 129,
   "id": "8bf0d04a",
   "metadata": {},
   "outputs": [],
   "source": [
    "class Tree_DF:\n",
    "    def __init__(self, df, parent=''):\n",
    "        self.df = df\n",
    "        self.node_list = []\n",
    "        \n",
    "    def options_for(self, keyword):\n",
    "        \"\"\"\n",
    "        finds the keyword in the column names and lists out the columns.\"\"\"\n",
    "        options = {}\n",
    "        for k,v  in enumerate(self.df.columns):\n",
    "            if keyword.lower() in v.lower():\n",
    "                options[k+1] = v\n",
    "        return options\n",
    "    \n",
    "    \n",
    "    def node_setup(self, name, depth):\n",
    "        dummy = Node(name)\n",
    "        dummy.children = self.df[name].unique().tolist()\n",
    "        dummy.depth = depth\n",
    "        for child in dummy.children:\n",
    "            keyw = input(f\"For parent column as : {dummy.name}\\n For Unique element (or child) = {child}\\n Type in the keyword present in the column you'd like to find: \")\n",
    "            d = self.options_for(keyw)\n",
    "            idx = int(input(f\"Available options: \\n {d} \\n What idx you'd like to proceed with? : \"))\n",
    "            dummy.tasks.append(d[idx])\n",
    "        self.node_list.append(dummy)\n",
    "        \n",
    "        count_for_none = 0\n",
    "        while count_for_none!=len(dummy.tasks):\n",
    "            if task is None:\n",
    "                count_for_none+=1\n",
    "            else:\n",
    "                self.node_setup(task, depth=dummy.depth+1)\n",
    "                \n",
    "    def automate(self):\n",
    "        pass\n",
    "        \n",
    "        "
   ]
  },
  {
   "cell_type": "code",
   "execution_count": 137,
   "id": "57d6b432",
   "metadata": {},
   "outputs": [],
   "source": [
    "class Tree_DF:\n",
    "    def __init__(self, df, parent=''):\n",
    "        self.df = df\n",
    "        self.node_list = []\n",
    "        \n",
    "    def options_for(self, keyword):\n",
    "        \"\"\"\n",
    "        finds the keyword in the column names and lists out the columns.\"\"\"\n",
    "        options = {}\n",
    "        for k,v  in enumerate(self.df.columns):\n",
    "            if keyword.lower() in v.lower():\n",
    "                options[k+1] = v\n",
    "        return options\n",
    "    \n",
    "    \n",
    "    def node_setup(self, name, depth):\n",
    "        dummy\n",
    "        = Node(name)\n",
    "        dummy.children = self.df[name].unique().tolist()\n",
    "        dummy.depth = depth\n",
    "        for child in dummy.children:\n",
    "            keyw = input(f\"For parent column as : {dummy.name}\\n For Unique element (or child) = {child}\\n Type in the keyword present in the column you'd like to find: \")\n",
    "            if keyw == '':\n",
    "                dummy.tasks.append(None)\n",
    "            else:\n",
    "                d = self.options_for(keyw)\n",
    "                idx = int(input(f\"Available options: \\n {d} \\n What idx you'd like to proceed with? : \"))\n",
    "                dummy.tasks.append(d[idx])\n",
    "        self.node_list.append(dummy)\n",
    "        \n",
    "        count_for_none = 0\n",
    "        for task in dummy.tasks:\n",
    "            if count_for_none != len(dummy.tasks):\n",
    "                if task is None:\n",
    "                    count_for_none+=1\n",
    "                else:\n",
    "                    self.node_setup(task, depth=dummy.depth+1)\n",
    "            else:\n",
    "                break\n",
    "    def automate(self):\n",
    "        pass\n",
    "        \n",
    "        "
   ]
  },
  {
   "cell_type": "code",
   "execution_count": null,
   "id": "38059f47",
   "metadata": {},
   "outputs": [],
   "source": []
  },
  {
   "cell_type": "code",
   "execution_count": 133,
   "id": "3bedff26",
   "metadata": {},
   "outputs": [],
   "source": [
    "def options_for(keyword):\n",
    "        \"\"\"\n",
    "        finds the keyword in the column names and lists out the columns.\"\"\"\n",
    "        options = {}\n",
    "        for k,v  in enumerate(df.columns):\n",
    "            if keyword.lower() in v.lower():\n",
    "                options[k+1] = v\n",
    "        return options"
   ]
  },
  {
   "cell_type": "code",
   "execution_count": 100,
   "id": "346e27f8",
   "metadata": {},
   "outputs": [
    {
     "data": {
      "text/plain": [
       "'morb'"
      ]
     },
     "execution_count": 100,
     "metadata": {},
     "output_type": "execute_result"
    }
   ],
   "source": [
    "options_for('m')[1]"
   ]
  },
  {
   "cell_type": "code",
   "execution_count": 120,
   "id": "ad40294a",
   "metadata": {},
   "outputs": [],
   "source": [
    "df['malig_sub_subcat'] = df['mal_subcat']*10"
   ]
  },
  {
   "cell_type": "code",
   "execution_count": 121,
   "id": "ed234264",
   "metadata": {},
   "outputs": [
    {
     "data": {
      "text/html": [
       "<div>\n",
       "<style scoped>\n",
       "    .dataframe tbody tr th:only-of-type {\n",
       "        vertical-align: middle;\n",
       "    }\n",
       "\n",
       "    .dataframe tbody tr th {\n",
       "        vertical-align: top;\n",
       "    }\n",
       "\n",
       "    .dataframe thead th {\n",
       "        text-align: right;\n",
       "    }\n",
       "</style>\n",
       "<table border=\"1\" class=\"dataframe\">\n",
       "  <thead>\n",
       "    <tr style=\"text-align: right;\">\n",
       "      <th></th>\n",
       "      <th>morb</th>\n",
       "      <th>mal_subcat</th>\n",
       "      <th>Ben_subcat</th>\n",
       "      <th>malig_sub_subcat</th>\n",
       "    </tr>\n",
       "  </thead>\n",
       "  <tbody>\n",
       "    <tr>\n",
       "      <th>0</th>\n",
       "      <td>m</td>\n",
       "      <td>b</td>\n",
       "      <td>NaN</td>\n",
       "      <td>bbbbbbbbbb</td>\n",
       "    </tr>\n",
       "    <tr>\n",
       "      <th>1</th>\n",
       "      <td>b</td>\n",
       "      <td>NaN</td>\n",
       "      <td>lesion</td>\n",
       "      <td>NaN</td>\n",
       "    </tr>\n",
       "    <tr>\n",
       "      <th>2</th>\n",
       "      <td>b</td>\n",
       "      <td>NaN</td>\n",
       "      <td>bro</td>\n",
       "      <td>NaN</td>\n",
       "    </tr>\n",
       "    <tr>\n",
       "      <th>3</th>\n",
       "      <td>m</td>\n",
       "      <td>a</td>\n",
       "      <td>NaN</td>\n",
       "      <td>aaaaaaaaaa</td>\n",
       "    </tr>\n",
       "    <tr>\n",
       "      <th>4</th>\n",
       "      <td>b</td>\n",
       "      <td>NaN</td>\n",
       "      <td>bro</td>\n",
       "      <td>NaN</td>\n",
       "    </tr>\n",
       "    <tr>\n",
       "      <th>...</th>\n",
       "      <td>...</td>\n",
       "      <td>...</td>\n",
       "      <td>...</td>\n",
       "      <td>...</td>\n",
       "    </tr>\n",
       "    <tr>\n",
       "      <th>95</th>\n",
       "      <td>b</td>\n",
       "      <td>NaN</td>\n",
       "      <td>bro</td>\n",
       "      <td>NaN</td>\n",
       "    </tr>\n",
       "    <tr>\n",
       "      <th>96</th>\n",
       "      <td>b</td>\n",
       "      <td>NaN</td>\n",
       "      <td>tomato</td>\n",
       "      <td>NaN</td>\n",
       "    </tr>\n",
       "    <tr>\n",
       "      <th>97</th>\n",
       "      <td>b</td>\n",
       "      <td>NaN</td>\n",
       "      <td>tomato</td>\n",
       "      <td>NaN</td>\n",
       "    </tr>\n",
       "    <tr>\n",
       "      <th>98</th>\n",
       "      <td>m</td>\n",
       "      <td>c</td>\n",
       "      <td>NaN</td>\n",
       "      <td>cccccccccc</td>\n",
       "    </tr>\n",
       "    <tr>\n",
       "      <th>99</th>\n",
       "      <td>b</td>\n",
       "      <td>NaN</td>\n",
       "      <td>bro</td>\n",
       "      <td>NaN</td>\n",
       "    </tr>\n",
       "  </tbody>\n",
       "</table>\n",
       "<p>100 rows × 4 columns</p>\n",
       "</div>"
      ],
      "text/plain": [
       "   morb mal_subcat Ben_subcat malig_sub_subcat\n",
       "0     m          b        NaN       bbbbbbbbbb\n",
       "1     b        NaN     lesion              NaN\n",
       "2     b        NaN        bro              NaN\n",
       "3     m          a        NaN       aaaaaaaaaa\n",
       "4     b        NaN        bro              NaN\n",
       "..  ...        ...        ...              ...\n",
       "95    b        NaN        bro              NaN\n",
       "96    b        NaN     tomato              NaN\n",
       "97    b        NaN     tomato              NaN\n",
       "98    m          c        NaN       cccccccccc\n",
       "99    b        NaN        bro              NaN\n",
       "\n",
       "[100 rows x 4 columns]"
      ]
     },
     "execution_count": 121,
     "metadata": {},
     "output_type": "execute_result"
    }
   ],
   "source": [
    "df"
   ]
  },
  {
   "cell_type": "code",
   "execution_count": 138,
   "id": "bf3229fb",
   "metadata": {},
   "outputs": [],
   "source": [
    "tree = Tree_DF(df)"
   ]
  },
  {
   "cell_type": "code",
   "execution_count": 139,
   "id": "760db2ea",
   "metadata": {},
   "outputs": [
    {
     "name": "stdout",
     "output_type": "stream",
     "text": [
      "For parent column as : morb\n",
      " For Unique element (or child) = m\n",
      " Type in the keyword present in the column you'd like to find: m\n",
      "Available options: \n",
      " {1: 'morb', 2: 'mal_subcat', 4: 'malig_sub_subcat'} \n",
      " What idx you'd like to proceed with? : 2\n",
      "For parent column as : morb\n",
      " For Unique element (or child) = b\n",
      " Type in the keyword present in the column you'd like to find: b\n",
      "Available options: \n",
      " {1: 'morb', 2: 'mal_subcat', 3: 'Ben_subcat', 4: 'malig_sub_subcat'} \n",
      " What idx you'd like to proceed with? : 3\n",
      "For parent column as : mal_subcat\n",
      " For Unique element (or child) = b\n",
      " Type in the keyword present in the column you'd like to find: sub\n",
      "Available options: \n",
      " {2: 'mal_subcat', 3: 'Ben_subcat', 4: 'malig_sub_subcat'} \n",
      " What idx you'd like to proceed with? : 4\n",
      "For parent column as : mal_subcat\n",
      " For Unique element (or child) = nan\n",
      " Type in the keyword present in the column you'd like to find: \n",
      "For parent column as : mal_subcat\n",
      " For Unique element (or child) = a\n",
      " Type in the keyword present in the column you'd like to find: \n",
      "For parent column as : mal_subcat\n",
      " For Unique element (or child) = d\n",
      " Type in the keyword present in the column you'd like to find: \n",
      "For parent column as : mal_subcat\n",
      " For Unique element (or child) = c\n",
      " Type in the keyword present in the column you'd like to find: \n",
      "For parent column as : malig_sub_subcat\n",
      " For Unique element (or child) = bbbbbbbbbb\n",
      " Type in the keyword present in the column you'd like to find: \n",
      "For parent column as : malig_sub_subcat\n",
      " For Unique element (or child) = nan\n",
      " Type in the keyword present in the column you'd like to find: \n",
      "For parent column as : malig_sub_subcat\n",
      " For Unique element (or child) = aaaaaaaaaa\n",
      " Type in the keyword present in the column you'd like to find: \n",
      "For parent column as : malig_sub_subcat\n",
      " For Unique element (or child) = dddddddddd\n",
      " Type in the keyword present in the column you'd like to find: \n",
      "For parent column as : malig_sub_subcat\n",
      " For Unique element (or child) = cccccccccc\n",
      " Type in the keyword present in the column you'd like to find: \n",
      "For parent column as : Ben_subcat\n",
      " For Unique element (or child) = nan\n",
      " Type in the keyword present in the column you'd like to find: \n",
      "For parent column as : Ben_subcat\n",
      " For Unique element (or child) = lesion\n",
      " Type in the keyword present in the column you'd like to find: \n",
      "For parent column as : Ben_subcat\n",
      " For Unique element (or child) = bro\n",
      " Type in the keyword present in the column you'd like to find: \n",
      "For parent column as : Ben_subcat\n",
      " For Unique element (or child) = tomato\n",
      " Type in the keyword present in the column you'd like to find: \n"
     ]
    }
   ],
   "source": [
    "tree.node_setup(name='morb',depth=0)"
   ]
  },
  {
   "cell_type": "code",
   "execution_count": 145,
   "id": "c36e8661",
   "metadata": {},
   "outputs": [
    {
     "data": {
      "text/plain": [
       "['m', 'b']"
      ]
     },
     "execution_count": 145,
     "metadata": {},
     "output_type": "execute_result"
    }
   ],
   "source": [
    "tree.node_list[0].children"
   ]
  },
  {
   "cell_type": "code",
   "execution_count": 146,
   "id": "bfe1be74",
   "metadata": {},
   "outputs": [
    {
     "data": {
      "text/plain": [
       "'malig_sub_subcat'"
      ]
     },
     "execution_count": 146,
     "metadata": {},
     "output_type": "execute_result"
    }
   ],
   "source": [
    "tree.node_list[1].tasks[0]"
   ]
  },
  {
   "cell_type": "code",
   "execution_count": null,
   "id": "eee7b17a",
   "metadata": {},
   "outputs": [],
   "source": [
    "['m' if i in np.random.randint(0,100)]"
   ]
  },
  {
   "cell_type": "code",
   "execution_count": 54,
   "id": "d9429468",
   "metadata": {},
   "outputs": [
    {
     "data": {
      "text/plain": [
       "array([78, 89, 45, 54, 53, 81, 21, 84, 46,  0, 55, 44, 45, 30,  3, 41, 94,\n",
       "       52, 74, 55, 54, 59, 40, 65, 90, 30, 89, 34, 65, 21, 21, 32, 98, 86,\n",
       "       85, 30, 98, 56, 27, 54, 40, 91, 11, 53, 79, 97, 94, 68, 23,  4, 31,\n",
       "       81, 78, 50, 48, 70, 72, 98, 34, 67, 14, 15, 84, 13, 27, 57, 15, 94,\n",
       "       63, 68, 74, 11, 14, 30, 44, 34, 66, 80, 59, 28, 60, 71, 84, 43,  0,\n",
       "       92, 36, 60, 35, 51, 54, 74,  2,  9, 76, 20, 70, 60, 90, 56])"
      ]
     },
     "execution_count": 54,
     "metadata": {},
     "output_type": "execute_result"
    }
   ],
   "source": [
    "np.random.randint(0,100,100)"
   ]
  },
  {
   "cell_type": "code",
   "execution_count": 55,
   "id": "c448318c",
   "metadata": {},
   "outputs": [],
   "source": [
    "l = []\n",
    "for i in np.random.randint(0,100,100):\n",
    "    if i%2 == 0:\n",
    "        l.append('m')\n",
    "    else:\n",
    "        l.append('b')"
   ]
  },
  {
   "cell_type": "code",
   "execution_count": 59,
   "id": "0aac6106",
   "metadata": {},
   "outputs": [],
   "source": [
    "import random"
   ]
  },
  {
   "cell_type": "code",
   "execution_count": 63,
   "id": "ac76d12b",
   "metadata": {},
   "outputs": [],
   "source": [
    "malignant_sub = ['a','b','c','d']\n",
    "\n",
    "benign_sub = ['lesion', 'bro', 'tomato']"
   ]
  },
  {
   "cell_type": "code",
   "execution_count": 62,
   "id": "1f467a32",
   "metadata": {},
   "outputs": [],
   "source": [
    "mal_sub = []\n",
    "for i in range(100):\n",
    "    mal_sub.append(random.choice(malignant_sub))"
   ]
  },
  {
   "cell_type": "code",
   "execution_count": 64,
   "id": "3a2191f2",
   "metadata": {},
   "outputs": [],
   "source": [
    "ben_sub = []\n",
    "for i in range(100):\n",
    "    ben_sub.append(random.choice(benign_sub))"
   ]
  },
  {
   "cell_type": "code",
   "execution_count": 79,
   "id": "a0381696",
   "metadata": {},
   "outputs": [],
   "source": [
    "df=pd.DataFrame({'morb':l,\n",
    "                'mal_subcat': mal_sub,\n",
    "                'Ben_subcat': ben_sub})"
   ]
  },
  {
   "cell_type": "code",
   "execution_count": 80,
   "id": "56afd109",
   "metadata": {},
   "outputs": [
    {
     "data": {
      "text/html": [
       "<div>\n",
       "<style scoped>\n",
       "    .dataframe tbody tr th:only-of-type {\n",
       "        vertical-align: middle;\n",
       "    }\n",
       "\n",
       "    .dataframe tbody tr th {\n",
       "        vertical-align: top;\n",
       "    }\n",
       "\n",
       "    .dataframe thead th {\n",
       "        text-align: right;\n",
       "    }\n",
       "</style>\n",
       "<table border=\"1\" class=\"dataframe\">\n",
       "  <thead>\n",
       "    <tr style=\"text-align: right;\">\n",
       "      <th></th>\n",
       "      <th>morb</th>\n",
       "      <th>mal_subcat</th>\n",
       "      <th>Ben_subcat</th>\n",
       "    </tr>\n",
       "  </thead>\n",
       "  <tbody>\n",
       "    <tr>\n",
       "      <th>0</th>\n",
       "      <td>m</td>\n",
       "      <td>b</td>\n",
       "      <td>lesion</td>\n",
       "    </tr>\n",
       "    <tr>\n",
       "      <th>1</th>\n",
       "      <td>b</td>\n",
       "      <td>c</td>\n",
       "      <td>lesion</td>\n",
       "    </tr>\n",
       "    <tr>\n",
       "      <th>2</th>\n",
       "      <td>b</td>\n",
       "      <td>b</td>\n",
       "      <td>bro</td>\n",
       "    </tr>\n",
       "    <tr>\n",
       "      <th>3</th>\n",
       "      <td>m</td>\n",
       "      <td>a</td>\n",
       "      <td>bro</td>\n",
       "    </tr>\n",
       "    <tr>\n",
       "      <th>4</th>\n",
       "      <td>b</td>\n",
       "      <td>c</td>\n",
       "      <td>bro</td>\n",
       "    </tr>\n",
       "    <tr>\n",
       "      <th>...</th>\n",
       "      <td>...</td>\n",
       "      <td>...</td>\n",
       "      <td>...</td>\n",
       "    </tr>\n",
       "    <tr>\n",
       "      <th>95</th>\n",
       "      <td>b</td>\n",
       "      <td>b</td>\n",
       "      <td>bro</td>\n",
       "    </tr>\n",
       "    <tr>\n",
       "      <th>96</th>\n",
       "      <td>b</td>\n",
       "      <td>c</td>\n",
       "      <td>tomato</td>\n",
       "    </tr>\n",
       "    <tr>\n",
       "      <th>97</th>\n",
       "      <td>b</td>\n",
       "      <td>a</td>\n",
       "      <td>tomato</td>\n",
       "    </tr>\n",
       "    <tr>\n",
       "      <th>98</th>\n",
       "      <td>m</td>\n",
       "      <td>c</td>\n",
       "      <td>tomato</td>\n",
       "    </tr>\n",
       "    <tr>\n",
       "      <th>99</th>\n",
       "      <td>b</td>\n",
       "      <td>a</td>\n",
       "      <td>bro</td>\n",
       "    </tr>\n",
       "  </tbody>\n",
       "</table>\n",
       "<p>100 rows × 3 columns</p>\n",
       "</div>"
      ],
      "text/plain": [
       "   morb mal_subcat Ben_subcat\n",
       "0     m          b     lesion\n",
       "1     b          c     lesion\n",
       "2     b          b        bro\n",
       "3     m          a        bro\n",
       "4     b          c        bro\n",
       "..  ...        ...        ...\n",
       "95    b          b        bro\n",
       "96    b          c     tomato\n",
       "97    b          a     tomato\n",
       "98    m          c     tomato\n",
       "99    b          a        bro\n",
       "\n",
       "[100 rows x 3 columns]"
      ]
     },
     "execution_count": 80,
     "metadata": {},
     "output_type": "execute_result"
    }
   ],
   "source": [
    "df.groupby('morb').apply(lambda x:x)"
   ]
  },
  {
   "cell_type": "code",
   "execution_count": null,
   "id": "e80e6ef9",
   "metadata": {},
   "outputs": [],
   "source": []
  },
  {
   "cell_type": "code",
   "execution_count": 81,
   "id": "0f313494",
   "metadata": {},
   "outputs": [],
   "source": [
    "for idx in df.loc[(df['morb'] == 'm')].index.tolist():\n",
    "    df['Ben_subcat'][idx] = np.nan\n",
    "    \n",
    "    "
   ]
  },
  {
   "cell_type": "code",
   "execution_count": 82,
   "id": "96617413",
   "metadata": {},
   "outputs": [],
   "source": [
    "for idx in df.loc[(df['morb'] == 'b')].index.tolist():\n",
    "    df['mal_subcat'][idx] = np.nan\n",
    "    "
   ]
  },
  {
   "cell_type": "code",
   "execution_count": 83,
   "id": "d1eee0ea",
   "metadata": {},
   "outputs": [
    {
     "data": {
      "text/html": [
       "<div>\n",
       "<style scoped>\n",
       "    .dataframe tbody tr th:only-of-type {\n",
       "        vertical-align: middle;\n",
       "    }\n",
       "\n",
       "    .dataframe tbody tr th {\n",
       "        vertical-align: top;\n",
       "    }\n",
       "\n",
       "    .dataframe thead th {\n",
       "        text-align: right;\n",
       "    }\n",
       "</style>\n",
       "<table border=\"1\" class=\"dataframe\">\n",
       "  <thead>\n",
       "    <tr style=\"text-align: right;\">\n",
       "      <th></th>\n",
       "      <th>morb</th>\n",
       "      <th>mal_subcat</th>\n",
       "      <th>Ben_subcat</th>\n",
       "    </tr>\n",
       "  </thead>\n",
       "  <tbody>\n",
       "    <tr>\n",
       "      <th>0</th>\n",
       "      <td>m</td>\n",
       "      <td>b</td>\n",
       "      <td>NaN</td>\n",
       "    </tr>\n",
       "    <tr>\n",
       "      <th>1</th>\n",
       "      <td>b</td>\n",
       "      <td>NaN</td>\n",
       "      <td>lesion</td>\n",
       "    </tr>\n",
       "    <tr>\n",
       "      <th>2</th>\n",
       "      <td>b</td>\n",
       "      <td>NaN</td>\n",
       "      <td>bro</td>\n",
       "    </tr>\n",
       "    <tr>\n",
       "      <th>3</th>\n",
       "      <td>m</td>\n",
       "      <td>a</td>\n",
       "      <td>NaN</td>\n",
       "    </tr>\n",
       "    <tr>\n",
       "      <th>4</th>\n",
       "      <td>b</td>\n",
       "      <td>NaN</td>\n",
       "      <td>bro</td>\n",
       "    </tr>\n",
       "    <tr>\n",
       "      <th>...</th>\n",
       "      <td>...</td>\n",
       "      <td>...</td>\n",
       "      <td>...</td>\n",
       "    </tr>\n",
       "    <tr>\n",
       "      <th>95</th>\n",
       "      <td>b</td>\n",
       "      <td>NaN</td>\n",
       "      <td>bro</td>\n",
       "    </tr>\n",
       "    <tr>\n",
       "      <th>96</th>\n",
       "      <td>b</td>\n",
       "      <td>NaN</td>\n",
       "      <td>tomato</td>\n",
       "    </tr>\n",
       "    <tr>\n",
       "      <th>97</th>\n",
       "      <td>b</td>\n",
       "      <td>NaN</td>\n",
       "      <td>tomato</td>\n",
       "    </tr>\n",
       "    <tr>\n",
       "      <th>98</th>\n",
       "      <td>m</td>\n",
       "      <td>c</td>\n",
       "      <td>NaN</td>\n",
       "    </tr>\n",
       "    <tr>\n",
       "      <th>99</th>\n",
       "      <td>b</td>\n",
       "      <td>NaN</td>\n",
       "      <td>bro</td>\n",
       "    </tr>\n",
       "  </tbody>\n",
       "</table>\n",
       "<p>100 rows × 3 columns</p>\n",
       "</div>"
      ],
      "text/plain": [
       "   morb mal_subcat Ben_subcat\n",
       "0     m          b        NaN\n",
       "1     b        NaN     lesion\n",
       "2     b        NaN        bro\n",
       "3     m          a        NaN\n",
       "4     b        NaN        bro\n",
       "..  ...        ...        ...\n",
       "95    b        NaN        bro\n",
       "96    b        NaN     tomato\n",
       "97    b        NaN     tomato\n",
       "98    m          c        NaN\n",
       "99    b        NaN        bro\n",
       "\n",
       "[100 rows x 3 columns]"
      ]
     },
     "execution_count": 83,
     "metadata": {},
     "output_type": "execute_result"
    }
   ],
   "source": [
    "df"
   ]
  },
  {
   "cell_type": "code",
   "execution_count": 39,
   "id": "62ae8f15",
   "metadata": {},
   "outputs": [
    {
     "name": "stdout",
     "output_type": "stream",
     "text": [
      "[1.0, 2.0, 3.0, 6.0, 8.0, nan]\n"
     ]
    }
   ],
   "source": [
    "import pandas as pd\n",
    "df = pd.DataFrame({'A':[1,1,3,2,6,2,8,np.nan]})\n",
    "a = df['A'].unique()\n",
    "print(sorted(a))"
   ]
  },
  {
   "cell_type": "code",
   "execution_count": 41,
   "id": "90e6a1e0",
   "metadata": {},
   "outputs": [
    {
     "data": {
      "text/plain": [
       "[1.0, 3.0, 2.0, 6.0, 8.0, nan]"
      ]
     },
     "execution_count": 41,
     "metadata": {},
     "output_type": "execute_result"
    }
   ],
   "source": [
    "df['A'].unique().tolist()"
   ]
  },
  {
   "cell_type": "code",
   "execution_count": 132,
   "id": "a124e90d",
   "metadata": {},
   "outputs": [
    {
     "name": "stdout",
     "output_type": "stream",
     "text": [
      "<__main__.Linked_list object at 0x0000022E4E71B5E0>\n"
     ]
    }
   ],
   "source": [
    "# Examples:\n",
    "\n",
    "l1 = Linked_list()\n",
    "print(l1)"
   ]
  },
  {
   "cell_type": "code",
   "execution_count": 133,
   "id": "ac1dc9fa",
   "metadata": {},
   "outputs": [
    {
     "name": "stdout",
     "output_type": "stream",
     "text": [
      "[None, 1, 2]\n"
     ]
    }
   ],
   "source": [
    "l1.append(1)\n",
    "l1.append(2)\n",
    "l1.display()"
   ]
  },
  {
   "cell_type": "code",
   "execution_count": 1,
   "id": "b9d21764",
   "metadata": {},
   "outputs": [
    {
     "name": "stderr",
     "output_type": "stream",
     "text": [
      "c:\\users\\astro\\appdata\\local\\programs\\python\\python38\\lib\\site-packages\\numpy\\_distributor_init.py:30: UserWarning: loaded more than 1 DLL from .libs:\n",
      "c:\\users\\astro\\appdata\\local\\programs\\python\\python38\\lib\\site-packages\\numpy\\.libs\\libopenblas.el2c6ple4zyw3eceviv3oxxgrn2nrfm2.gfortran-win_amd64.dll\n",
      "c:\\users\\astro\\appdata\\local\\programs\\python\\python38\\lib\\site-packages\\numpy\\.libs\\libopenblas.PYQHXLVVQ7VESDPUVUADXEVJOBGHJPAY.gfortran-win_amd64.dll\n",
      "  warnings.warn(\"loaded more than 1 DLL from .libs:\"\n"
     ]
    }
   ],
   "source": [
    "import numpy as np\n"
   ]
  },
  {
   "cell_type": "code",
   "execution_count": 7,
   "id": "b3472e10",
   "metadata": {},
   "outputs": [],
   "source": [
    "arr = np.random.randint(1,40,10)"
   ]
  },
  {
   "cell_type": "code",
   "execution_count": 11,
   "id": "642a8c12",
   "metadata": {},
   "outputs": [
    {
     "data": {
      "text/plain": [
       "array([ 6,  5, 31, 32, 16, 15,  1, 20, 24,  5])"
      ]
     },
     "execution_count": 11,
     "metadata": {},
     "output_type": "execute_result"
    }
   ],
   "source": [
    "arr"
   ]
  },
  {
   "cell_type": "code",
   "execution_count": 12,
   "id": "a3225549",
   "metadata": {},
   "outputs": [],
   "source": [
    "import time"
   ]
  },
  {
   "cell_type": "code",
   "execution_count": null,
   "id": "c6b3215d",
   "metadata": {},
   "outputs": [],
   "source": [
    "# Sleeping sort\n",
    "\n",
    "def sleep_sort(arr):\n",
    "    for i in arr:\n",
    "        time.sleep(i/1000)\n",
    "        "
   ]
  },
  {
   "cell_type": "code",
   "execution_count": 2,
   "id": "91ffdbef",
   "metadata": {},
   "outputs": [],
   "source": [
    "import seaborn as sns\n",
    "import matplotlib.pyplot as plt\n",
    "import numpy as np\n",
    "import pandas as pd"
   ]
  },
  {
   "cell_type": "code",
   "execution_count": 3,
   "id": "c24a941e",
   "metadata": {},
   "outputs": [],
   "source": [
    "crash_df = sns.load_dataset('car_crashes')"
   ]
  },
  {
   "cell_type": "code",
   "execution_count": 4,
   "id": "5a4c922b",
   "metadata": {},
   "outputs": [
    {
     "data": {
      "text/html": [
       "<div>\n",
       "<style scoped>\n",
       "    .dataframe tbody tr th:only-of-type {\n",
       "        vertical-align: middle;\n",
       "    }\n",
       "\n",
       "    .dataframe tbody tr th {\n",
       "        vertical-align: top;\n",
       "    }\n",
       "\n",
       "    .dataframe thead th {\n",
       "        text-align: right;\n",
       "    }\n",
       "</style>\n",
       "<table border=\"1\" class=\"dataframe\">\n",
       "  <thead>\n",
       "    <tr style=\"text-align: right;\">\n",
       "      <th></th>\n",
       "      <th>total</th>\n",
       "      <th>speeding</th>\n",
       "      <th>alcohol</th>\n",
       "      <th>not_distracted</th>\n",
       "      <th>no_previous</th>\n",
       "      <th>ins_premium</th>\n",
       "      <th>ins_losses</th>\n",
       "      <th>abbrev</th>\n",
       "    </tr>\n",
       "  </thead>\n",
       "  <tbody>\n",
       "    <tr>\n",
       "      <th>0</th>\n",
       "      <td>18.8</td>\n",
       "      <td>7.332</td>\n",
       "      <td>5.640</td>\n",
       "      <td>18.048</td>\n",
       "      <td>15.040</td>\n",
       "      <td>784.55</td>\n",
       "      <td>145.08</td>\n",
       "      <td>AL</td>\n",
       "    </tr>\n",
       "    <tr>\n",
       "      <th>1</th>\n",
       "      <td>18.1</td>\n",
       "      <td>7.421</td>\n",
       "      <td>4.525</td>\n",
       "      <td>16.290</td>\n",
       "      <td>17.014</td>\n",
       "      <td>1053.48</td>\n",
       "      <td>133.93</td>\n",
       "      <td>AK</td>\n",
       "    </tr>\n",
       "    <tr>\n",
       "      <th>2</th>\n",
       "      <td>18.6</td>\n",
       "      <td>6.510</td>\n",
       "      <td>5.208</td>\n",
       "      <td>15.624</td>\n",
       "      <td>17.856</td>\n",
       "      <td>899.47</td>\n",
       "      <td>110.35</td>\n",
       "      <td>AZ</td>\n",
       "    </tr>\n",
       "    <tr>\n",
       "      <th>3</th>\n",
       "      <td>22.4</td>\n",
       "      <td>4.032</td>\n",
       "      <td>5.824</td>\n",
       "      <td>21.056</td>\n",
       "      <td>21.280</td>\n",
       "      <td>827.34</td>\n",
       "      <td>142.39</td>\n",
       "      <td>AR</td>\n",
       "    </tr>\n",
       "    <tr>\n",
       "      <th>4</th>\n",
       "      <td>12.0</td>\n",
       "      <td>4.200</td>\n",
       "      <td>3.360</td>\n",
       "      <td>10.920</td>\n",
       "      <td>10.680</td>\n",
       "      <td>878.41</td>\n",
       "      <td>165.63</td>\n",
       "      <td>CA</td>\n",
       "    </tr>\n",
       "    <tr>\n",
       "      <th>5</th>\n",
       "      <td>13.6</td>\n",
       "      <td>5.032</td>\n",
       "      <td>3.808</td>\n",
       "      <td>10.744</td>\n",
       "      <td>12.920</td>\n",
       "      <td>835.50</td>\n",
       "      <td>139.91</td>\n",
       "      <td>CO</td>\n",
       "    </tr>\n",
       "    <tr>\n",
       "      <th>6</th>\n",
       "      <td>10.8</td>\n",
       "      <td>4.968</td>\n",
       "      <td>3.888</td>\n",
       "      <td>9.396</td>\n",
       "      <td>8.856</td>\n",
       "      <td>1068.73</td>\n",
       "      <td>167.02</td>\n",
       "      <td>CT</td>\n",
       "    </tr>\n",
       "    <tr>\n",
       "      <th>7</th>\n",
       "      <td>16.2</td>\n",
       "      <td>6.156</td>\n",
       "      <td>4.860</td>\n",
       "      <td>14.094</td>\n",
       "      <td>16.038</td>\n",
       "      <td>1137.87</td>\n",
       "      <td>151.48</td>\n",
       "      <td>DE</td>\n",
       "    </tr>\n",
       "    <tr>\n",
       "      <th>8</th>\n",
       "      <td>5.9</td>\n",
       "      <td>2.006</td>\n",
       "      <td>1.593</td>\n",
       "      <td>5.900</td>\n",
       "      <td>5.900</td>\n",
       "      <td>1273.89</td>\n",
       "      <td>136.05</td>\n",
       "      <td>DC</td>\n",
       "    </tr>\n",
       "    <tr>\n",
       "      <th>9</th>\n",
       "      <td>17.9</td>\n",
       "      <td>3.759</td>\n",
       "      <td>5.191</td>\n",
       "      <td>16.468</td>\n",
       "      <td>16.826</td>\n",
       "      <td>1160.13</td>\n",
       "      <td>144.18</td>\n",
       "      <td>FL</td>\n",
       "    </tr>\n",
       "    <tr>\n",
       "      <th>10</th>\n",
       "      <td>15.6</td>\n",
       "      <td>2.964</td>\n",
       "      <td>3.900</td>\n",
       "      <td>14.820</td>\n",
       "      <td>14.508</td>\n",
       "      <td>913.15</td>\n",
       "      <td>142.80</td>\n",
       "      <td>GA</td>\n",
       "    </tr>\n",
       "    <tr>\n",
       "      <th>11</th>\n",
       "      <td>17.5</td>\n",
       "      <td>9.450</td>\n",
       "      <td>7.175</td>\n",
       "      <td>14.350</td>\n",
       "      <td>15.225</td>\n",
       "      <td>861.18</td>\n",
       "      <td>120.92</td>\n",
       "      <td>HI</td>\n",
       "    </tr>\n",
       "    <tr>\n",
       "      <th>12</th>\n",
       "      <td>15.3</td>\n",
       "      <td>5.508</td>\n",
       "      <td>4.437</td>\n",
       "      <td>13.005</td>\n",
       "      <td>14.994</td>\n",
       "      <td>641.96</td>\n",
       "      <td>82.75</td>\n",
       "      <td>ID</td>\n",
       "    </tr>\n",
       "    <tr>\n",
       "      <th>13</th>\n",
       "      <td>12.8</td>\n",
       "      <td>4.608</td>\n",
       "      <td>4.352</td>\n",
       "      <td>12.032</td>\n",
       "      <td>12.288</td>\n",
       "      <td>803.11</td>\n",
       "      <td>139.15</td>\n",
       "      <td>IL</td>\n",
       "    </tr>\n",
       "    <tr>\n",
       "      <th>14</th>\n",
       "      <td>14.5</td>\n",
       "      <td>3.625</td>\n",
       "      <td>4.205</td>\n",
       "      <td>13.775</td>\n",
       "      <td>13.775</td>\n",
       "      <td>710.46</td>\n",
       "      <td>108.92</td>\n",
       "      <td>IN</td>\n",
       "    </tr>\n",
       "    <tr>\n",
       "      <th>15</th>\n",
       "      <td>15.7</td>\n",
       "      <td>2.669</td>\n",
       "      <td>3.925</td>\n",
       "      <td>15.229</td>\n",
       "      <td>13.659</td>\n",
       "      <td>649.06</td>\n",
       "      <td>114.47</td>\n",
       "      <td>IA</td>\n",
       "    </tr>\n",
       "    <tr>\n",
       "      <th>16</th>\n",
       "      <td>17.8</td>\n",
       "      <td>4.806</td>\n",
       "      <td>4.272</td>\n",
       "      <td>13.706</td>\n",
       "      <td>15.130</td>\n",
       "      <td>780.45</td>\n",
       "      <td>133.80</td>\n",
       "      <td>KS</td>\n",
       "    </tr>\n",
       "    <tr>\n",
       "      <th>17</th>\n",
       "      <td>21.4</td>\n",
       "      <td>4.066</td>\n",
       "      <td>4.922</td>\n",
       "      <td>16.692</td>\n",
       "      <td>16.264</td>\n",
       "      <td>872.51</td>\n",
       "      <td>137.13</td>\n",
       "      <td>KY</td>\n",
       "    </tr>\n",
       "    <tr>\n",
       "      <th>18</th>\n",
       "      <td>20.5</td>\n",
       "      <td>7.175</td>\n",
       "      <td>6.765</td>\n",
       "      <td>14.965</td>\n",
       "      <td>20.090</td>\n",
       "      <td>1281.55</td>\n",
       "      <td>194.78</td>\n",
       "      <td>LA</td>\n",
       "    </tr>\n",
       "    <tr>\n",
       "      <th>19</th>\n",
       "      <td>15.1</td>\n",
       "      <td>5.738</td>\n",
       "      <td>4.530</td>\n",
       "      <td>13.137</td>\n",
       "      <td>12.684</td>\n",
       "      <td>661.88</td>\n",
       "      <td>96.57</td>\n",
       "      <td>ME</td>\n",
       "    </tr>\n",
       "    <tr>\n",
       "      <th>20</th>\n",
       "      <td>12.5</td>\n",
       "      <td>4.250</td>\n",
       "      <td>4.000</td>\n",
       "      <td>8.875</td>\n",
       "      <td>12.375</td>\n",
       "      <td>1048.78</td>\n",
       "      <td>192.70</td>\n",
       "      <td>MD</td>\n",
       "    </tr>\n",
       "    <tr>\n",
       "      <th>21</th>\n",
       "      <td>8.2</td>\n",
       "      <td>1.886</td>\n",
       "      <td>2.870</td>\n",
       "      <td>7.134</td>\n",
       "      <td>6.560</td>\n",
       "      <td>1011.14</td>\n",
       "      <td>135.63</td>\n",
       "      <td>MA</td>\n",
       "    </tr>\n",
       "    <tr>\n",
       "      <th>22</th>\n",
       "      <td>14.1</td>\n",
       "      <td>3.384</td>\n",
       "      <td>3.948</td>\n",
       "      <td>13.395</td>\n",
       "      <td>10.857</td>\n",
       "      <td>1110.61</td>\n",
       "      <td>152.26</td>\n",
       "      <td>MI</td>\n",
       "    </tr>\n",
       "    <tr>\n",
       "      <th>23</th>\n",
       "      <td>9.6</td>\n",
       "      <td>2.208</td>\n",
       "      <td>2.784</td>\n",
       "      <td>8.448</td>\n",
       "      <td>8.448</td>\n",
       "      <td>777.18</td>\n",
       "      <td>133.35</td>\n",
       "      <td>MN</td>\n",
       "    </tr>\n",
       "    <tr>\n",
       "      <th>24</th>\n",
       "      <td>17.6</td>\n",
       "      <td>2.640</td>\n",
       "      <td>5.456</td>\n",
       "      <td>1.760</td>\n",
       "      <td>17.600</td>\n",
       "      <td>896.07</td>\n",
       "      <td>155.77</td>\n",
       "      <td>MS</td>\n",
       "    </tr>\n",
       "    <tr>\n",
       "      <th>25</th>\n",
       "      <td>16.1</td>\n",
       "      <td>6.923</td>\n",
       "      <td>5.474</td>\n",
       "      <td>14.812</td>\n",
       "      <td>13.524</td>\n",
       "      <td>790.32</td>\n",
       "      <td>144.45</td>\n",
       "      <td>MO</td>\n",
       "    </tr>\n",
       "    <tr>\n",
       "      <th>26</th>\n",
       "      <td>21.4</td>\n",
       "      <td>8.346</td>\n",
       "      <td>9.416</td>\n",
       "      <td>17.976</td>\n",
       "      <td>18.190</td>\n",
       "      <td>816.21</td>\n",
       "      <td>85.15</td>\n",
       "      <td>MT</td>\n",
       "    </tr>\n",
       "    <tr>\n",
       "      <th>27</th>\n",
       "      <td>14.9</td>\n",
       "      <td>1.937</td>\n",
       "      <td>5.215</td>\n",
       "      <td>13.857</td>\n",
       "      <td>13.410</td>\n",
       "      <td>732.28</td>\n",
       "      <td>114.82</td>\n",
       "      <td>NE</td>\n",
       "    </tr>\n",
       "    <tr>\n",
       "      <th>28</th>\n",
       "      <td>14.7</td>\n",
       "      <td>5.439</td>\n",
       "      <td>4.704</td>\n",
       "      <td>13.965</td>\n",
       "      <td>14.553</td>\n",
       "      <td>1029.87</td>\n",
       "      <td>138.71</td>\n",
       "      <td>NV</td>\n",
       "    </tr>\n",
       "    <tr>\n",
       "      <th>29</th>\n",
       "      <td>11.6</td>\n",
       "      <td>4.060</td>\n",
       "      <td>3.480</td>\n",
       "      <td>10.092</td>\n",
       "      <td>9.628</td>\n",
       "      <td>746.54</td>\n",
       "      <td>120.21</td>\n",
       "      <td>NH</td>\n",
       "    </tr>\n",
       "    <tr>\n",
       "      <th>30</th>\n",
       "      <td>11.2</td>\n",
       "      <td>1.792</td>\n",
       "      <td>3.136</td>\n",
       "      <td>9.632</td>\n",
       "      <td>8.736</td>\n",
       "      <td>1301.52</td>\n",
       "      <td>159.85</td>\n",
       "      <td>NJ</td>\n",
       "    </tr>\n",
       "    <tr>\n",
       "      <th>31</th>\n",
       "      <td>18.4</td>\n",
       "      <td>3.496</td>\n",
       "      <td>4.968</td>\n",
       "      <td>12.328</td>\n",
       "      <td>18.032</td>\n",
       "      <td>869.85</td>\n",
       "      <td>120.75</td>\n",
       "      <td>NM</td>\n",
       "    </tr>\n",
       "    <tr>\n",
       "      <th>32</th>\n",
       "      <td>12.3</td>\n",
       "      <td>3.936</td>\n",
       "      <td>3.567</td>\n",
       "      <td>10.824</td>\n",
       "      <td>9.840</td>\n",
       "      <td>1234.31</td>\n",
       "      <td>150.01</td>\n",
       "      <td>NY</td>\n",
       "    </tr>\n",
       "    <tr>\n",
       "      <th>33</th>\n",
       "      <td>16.8</td>\n",
       "      <td>6.552</td>\n",
       "      <td>5.208</td>\n",
       "      <td>15.792</td>\n",
       "      <td>13.608</td>\n",
       "      <td>708.24</td>\n",
       "      <td>127.82</td>\n",
       "      <td>NC</td>\n",
       "    </tr>\n",
       "    <tr>\n",
       "      <th>34</th>\n",
       "      <td>23.9</td>\n",
       "      <td>5.497</td>\n",
       "      <td>10.038</td>\n",
       "      <td>23.661</td>\n",
       "      <td>20.554</td>\n",
       "      <td>688.75</td>\n",
       "      <td>109.72</td>\n",
       "      <td>ND</td>\n",
       "    </tr>\n",
       "    <tr>\n",
       "      <th>35</th>\n",
       "      <td>14.1</td>\n",
       "      <td>3.948</td>\n",
       "      <td>4.794</td>\n",
       "      <td>13.959</td>\n",
       "      <td>11.562</td>\n",
       "      <td>697.73</td>\n",
       "      <td>133.52</td>\n",
       "      <td>OH</td>\n",
       "    </tr>\n",
       "    <tr>\n",
       "      <th>36</th>\n",
       "      <td>19.9</td>\n",
       "      <td>6.368</td>\n",
       "      <td>5.771</td>\n",
       "      <td>18.308</td>\n",
       "      <td>18.706</td>\n",
       "      <td>881.51</td>\n",
       "      <td>178.86</td>\n",
       "      <td>OK</td>\n",
       "    </tr>\n",
       "    <tr>\n",
       "      <th>37</th>\n",
       "      <td>12.8</td>\n",
       "      <td>4.224</td>\n",
       "      <td>3.328</td>\n",
       "      <td>8.576</td>\n",
       "      <td>11.520</td>\n",
       "      <td>804.71</td>\n",
       "      <td>104.61</td>\n",
       "      <td>OR</td>\n",
       "    </tr>\n",
       "    <tr>\n",
       "      <th>38</th>\n",
       "      <td>18.2</td>\n",
       "      <td>9.100</td>\n",
       "      <td>5.642</td>\n",
       "      <td>17.472</td>\n",
       "      <td>16.016</td>\n",
       "      <td>905.99</td>\n",
       "      <td>153.86</td>\n",
       "      <td>PA</td>\n",
       "    </tr>\n",
       "    <tr>\n",
       "      <th>39</th>\n",
       "      <td>11.1</td>\n",
       "      <td>3.774</td>\n",
       "      <td>4.218</td>\n",
       "      <td>10.212</td>\n",
       "      <td>8.769</td>\n",
       "      <td>1148.99</td>\n",
       "      <td>148.58</td>\n",
       "      <td>RI</td>\n",
       "    </tr>\n",
       "    <tr>\n",
       "      <th>40</th>\n",
       "      <td>23.9</td>\n",
       "      <td>9.082</td>\n",
       "      <td>9.799</td>\n",
       "      <td>22.944</td>\n",
       "      <td>19.359</td>\n",
       "      <td>858.97</td>\n",
       "      <td>116.29</td>\n",
       "      <td>SC</td>\n",
       "    </tr>\n",
       "    <tr>\n",
       "      <th>41</th>\n",
       "      <td>19.4</td>\n",
       "      <td>6.014</td>\n",
       "      <td>6.402</td>\n",
       "      <td>19.012</td>\n",
       "      <td>16.684</td>\n",
       "      <td>669.31</td>\n",
       "      <td>96.87</td>\n",
       "      <td>SD</td>\n",
       "    </tr>\n",
       "    <tr>\n",
       "      <th>42</th>\n",
       "      <td>19.5</td>\n",
       "      <td>4.095</td>\n",
       "      <td>5.655</td>\n",
       "      <td>15.990</td>\n",
       "      <td>15.795</td>\n",
       "      <td>767.91</td>\n",
       "      <td>155.57</td>\n",
       "      <td>TN</td>\n",
       "    </tr>\n",
       "    <tr>\n",
       "      <th>43</th>\n",
       "      <td>19.4</td>\n",
       "      <td>7.760</td>\n",
       "      <td>7.372</td>\n",
       "      <td>17.654</td>\n",
       "      <td>16.878</td>\n",
       "      <td>1004.75</td>\n",
       "      <td>156.83</td>\n",
       "      <td>TX</td>\n",
       "    </tr>\n",
       "    <tr>\n",
       "      <th>44</th>\n",
       "      <td>11.3</td>\n",
       "      <td>4.859</td>\n",
       "      <td>1.808</td>\n",
       "      <td>9.944</td>\n",
       "      <td>10.848</td>\n",
       "      <td>809.38</td>\n",
       "      <td>109.48</td>\n",
       "      <td>UT</td>\n",
       "    </tr>\n",
       "    <tr>\n",
       "      <th>45</th>\n",
       "      <td>13.6</td>\n",
       "      <td>4.080</td>\n",
       "      <td>4.080</td>\n",
       "      <td>13.056</td>\n",
       "      <td>12.920</td>\n",
       "      <td>716.20</td>\n",
       "      <td>109.61</td>\n",
       "      <td>VT</td>\n",
       "    </tr>\n",
       "    <tr>\n",
       "      <th>46</th>\n",
       "      <td>12.7</td>\n",
       "      <td>2.413</td>\n",
       "      <td>3.429</td>\n",
       "      <td>11.049</td>\n",
       "      <td>11.176</td>\n",
       "      <td>768.95</td>\n",
       "      <td>153.72</td>\n",
       "      <td>VA</td>\n",
       "    </tr>\n",
       "    <tr>\n",
       "      <th>47</th>\n",
       "      <td>10.6</td>\n",
       "      <td>4.452</td>\n",
       "      <td>3.498</td>\n",
       "      <td>8.692</td>\n",
       "      <td>9.116</td>\n",
       "      <td>890.03</td>\n",
       "      <td>111.62</td>\n",
       "      <td>WA</td>\n",
       "    </tr>\n",
       "    <tr>\n",
       "      <th>48</th>\n",
       "      <td>23.8</td>\n",
       "      <td>8.092</td>\n",
       "      <td>6.664</td>\n",
       "      <td>23.086</td>\n",
       "      <td>20.706</td>\n",
       "      <td>992.61</td>\n",
       "      <td>152.56</td>\n",
       "      <td>WV</td>\n",
       "    </tr>\n",
       "    <tr>\n",
       "      <th>49</th>\n",
       "      <td>13.8</td>\n",
       "      <td>4.968</td>\n",
       "      <td>4.554</td>\n",
       "      <td>5.382</td>\n",
       "      <td>11.592</td>\n",
       "      <td>670.31</td>\n",
       "      <td>106.62</td>\n",
       "      <td>WI</td>\n",
       "    </tr>\n",
       "    <tr>\n",
       "      <th>50</th>\n",
       "      <td>17.4</td>\n",
       "      <td>7.308</td>\n",
       "      <td>5.568</td>\n",
       "      <td>14.094</td>\n",
       "      <td>15.660</td>\n",
       "      <td>791.14</td>\n",
       "      <td>122.04</td>\n",
       "      <td>WY</td>\n",
       "    </tr>\n",
       "  </tbody>\n",
       "</table>\n",
       "</div>"
      ],
      "text/plain": [
       "    total  speeding  alcohol  not_distracted  no_previous  ins_premium  \\\n",
       "0    18.8     7.332    5.640          18.048       15.040       784.55   \n",
       "1    18.1     7.421    4.525          16.290       17.014      1053.48   \n",
       "2    18.6     6.510    5.208          15.624       17.856       899.47   \n",
       "3    22.4     4.032    5.824          21.056       21.280       827.34   \n",
       "4    12.0     4.200    3.360          10.920       10.680       878.41   \n",
       "5    13.6     5.032    3.808          10.744       12.920       835.50   \n",
       "6    10.8     4.968    3.888           9.396        8.856      1068.73   \n",
       "7    16.2     6.156    4.860          14.094       16.038      1137.87   \n",
       "8     5.9     2.006    1.593           5.900        5.900      1273.89   \n",
       "9    17.9     3.759    5.191          16.468       16.826      1160.13   \n",
       "10   15.6     2.964    3.900          14.820       14.508       913.15   \n",
       "11   17.5     9.450    7.175          14.350       15.225       861.18   \n",
       "12   15.3     5.508    4.437          13.005       14.994       641.96   \n",
       "13   12.8     4.608    4.352          12.032       12.288       803.11   \n",
       "14   14.5     3.625    4.205          13.775       13.775       710.46   \n",
       "15   15.7     2.669    3.925          15.229       13.659       649.06   \n",
       "16   17.8     4.806    4.272          13.706       15.130       780.45   \n",
       "17   21.4     4.066    4.922          16.692       16.264       872.51   \n",
       "18   20.5     7.175    6.765          14.965       20.090      1281.55   \n",
       "19   15.1     5.738    4.530          13.137       12.684       661.88   \n",
       "20   12.5     4.250    4.000           8.875       12.375      1048.78   \n",
       "21    8.2     1.886    2.870           7.134        6.560      1011.14   \n",
       "22   14.1     3.384    3.948          13.395       10.857      1110.61   \n",
       "23    9.6     2.208    2.784           8.448        8.448       777.18   \n",
       "24   17.6     2.640    5.456           1.760       17.600       896.07   \n",
       "25   16.1     6.923    5.474          14.812       13.524       790.32   \n",
       "26   21.4     8.346    9.416          17.976       18.190       816.21   \n",
       "27   14.9     1.937    5.215          13.857       13.410       732.28   \n",
       "28   14.7     5.439    4.704          13.965       14.553      1029.87   \n",
       "29   11.6     4.060    3.480          10.092        9.628       746.54   \n",
       "30   11.2     1.792    3.136           9.632        8.736      1301.52   \n",
       "31   18.4     3.496    4.968          12.328       18.032       869.85   \n",
       "32   12.3     3.936    3.567          10.824        9.840      1234.31   \n",
       "33   16.8     6.552    5.208          15.792       13.608       708.24   \n",
       "34   23.9     5.497   10.038          23.661       20.554       688.75   \n",
       "35   14.1     3.948    4.794          13.959       11.562       697.73   \n",
       "36   19.9     6.368    5.771          18.308       18.706       881.51   \n",
       "37   12.8     4.224    3.328           8.576       11.520       804.71   \n",
       "38   18.2     9.100    5.642          17.472       16.016       905.99   \n",
       "39   11.1     3.774    4.218          10.212        8.769      1148.99   \n",
       "40   23.9     9.082    9.799          22.944       19.359       858.97   \n",
       "41   19.4     6.014    6.402          19.012       16.684       669.31   \n",
       "42   19.5     4.095    5.655          15.990       15.795       767.91   \n",
       "43   19.4     7.760    7.372          17.654       16.878      1004.75   \n",
       "44   11.3     4.859    1.808           9.944       10.848       809.38   \n",
       "45   13.6     4.080    4.080          13.056       12.920       716.20   \n",
       "46   12.7     2.413    3.429          11.049       11.176       768.95   \n",
       "47   10.6     4.452    3.498           8.692        9.116       890.03   \n",
       "48   23.8     8.092    6.664          23.086       20.706       992.61   \n",
       "49   13.8     4.968    4.554           5.382       11.592       670.31   \n",
       "50   17.4     7.308    5.568          14.094       15.660       791.14   \n",
       "\n",
       "    ins_losses abbrev  \n",
       "0       145.08     AL  \n",
       "1       133.93     AK  \n",
       "2       110.35     AZ  \n",
       "3       142.39     AR  \n",
       "4       165.63     CA  \n",
       "5       139.91     CO  \n",
       "6       167.02     CT  \n",
       "7       151.48     DE  \n",
       "8       136.05     DC  \n",
       "9       144.18     FL  \n",
       "10      142.80     GA  \n",
       "11      120.92     HI  \n",
       "12       82.75     ID  \n",
       "13      139.15     IL  \n",
       "14      108.92     IN  \n",
       "15      114.47     IA  \n",
       "16      133.80     KS  \n",
       "17      137.13     KY  \n",
       "18      194.78     LA  \n",
       "19       96.57     ME  \n",
       "20      192.70     MD  \n",
       "21      135.63     MA  \n",
       "22      152.26     MI  \n",
       "23      133.35     MN  \n",
       "24      155.77     MS  \n",
       "25      144.45     MO  \n",
       "26       85.15     MT  \n",
       "27      114.82     NE  \n",
       "28      138.71     NV  \n",
       "29      120.21     NH  \n",
       "30      159.85     NJ  \n",
       "31      120.75     NM  \n",
       "32      150.01     NY  \n",
       "33      127.82     NC  \n",
       "34      109.72     ND  \n",
       "35      133.52     OH  \n",
       "36      178.86     OK  \n",
       "37      104.61     OR  \n",
       "38      153.86     PA  \n",
       "39      148.58     RI  \n",
       "40      116.29     SC  \n",
       "41       96.87     SD  \n",
       "42      155.57     TN  \n",
       "43      156.83     TX  \n",
       "44      109.48     UT  \n",
       "45      109.61     VT  \n",
       "46      153.72     VA  \n",
       "47      111.62     WA  \n",
       "48      152.56     WV  \n",
       "49      106.62     WI  \n",
       "50      122.04     WY  "
      ]
     },
     "execution_count": 4,
     "metadata": {},
     "output_type": "execute_result"
    }
   ],
   "source": [
    "crash_df"
   ]
  },
  {
   "cell_type": "markdown",
   "id": "0209ab1f",
   "metadata": {},
   "source": [
    "# Distribution plot"
   ]
  },
  {
   "cell_type": "markdown",
   "id": "f27821c8",
   "metadata": {},
   "source": [
    "Univariate Distribution"
   ]
  },
  {
   "cell_type": "code",
   "execution_count": 5,
   "id": "22ab82be",
   "metadata": {},
   "outputs": [
    {
     "data": {
      "text/plain": [
       "<matplotlib.axes._subplots.AxesSubplot at 0x2356d494f70>"
      ]
     },
     "execution_count": 5,
     "metadata": {},
     "output_type": "execute_result"
    },
    {
     "data": {
      "image/png": "[encoded data removed]",
      "text/plain": [
       "<Figure size 432x288 with 1 Axes>"
      ]
     },
     "metadata": {
      "needs_background": "light"
     },
     "output_type": "display_data"
    }
   ],
   "source": [
    "sns.distplot(crash_df['not_distracted'])"
   ]
  },
  {
   "cell_type": "markdown",
   "id": "d05490ba",
   "metadata": {},
   "source": [
    "# Joint Plot"
   ]
  },
  {
   "cell_type": "code",
   "execution_count": 6,
   "id": "925e54b6",
   "metadata": {},
   "outputs": [
    {
     "data": {
      "text/plain": [
       "<seaborn.axisgrid.JointGrid at 0x2356d3afc10>"
      ]
     },
     "execution_count": 6,
     "metadata": {},
     "output_type": "execute_result"
    },
    {
     "data": {
      "image/png": "[encoded data removed]",
      "text/plain": [
       "<Figure size 432x432 with 3 Axes>"
      ]
     },
     "metadata": {
      "needs_background": "light"
     },
     "output_type": "display_data"
    }
   ],
   "source": [
    "sns.jointplot(x='speeding', y='alcohol', data=crash_df, kind='reg')"
   ]
  },
  {
   "cell_type": "code",
   "execution_count": 14,
   "id": "ddd3976e",
   "metadata": {},
   "outputs": [
    {
     "data": {
      "text/plain": [
       "<seaborn.axisgrid.JointGrid at 0x2357341ec10>"
      ]
     },
     "execution_count": 14,
     "metadata": {},
     "output_type": "execute_result"
    },
    {
     "data": {
      "image/png": "[encoded data removed]",
      "text/plain": [
       "<Figure size 432x432 with 3 Axes>"
      ]
     },
     "metadata": {
      "needs_background": "light"
     },
     "output_type": "display_data"
    }
   ],
   "source": [
    "sns.jointplot(x='speeding', y='alcohol', data=crash_df, kind='kde')"
   ]
  },
  {
   "cell_type": "markdown",
   "id": "a2fe3646",
   "metadata": {},
   "source": [
    "# Pair plot"
   ]
  },
  {
   "cell_type": "code",
   "execution_count": 17,
   "id": "1b24a25c",
   "metadata": {},
   "outputs": [],
   "source": [
    "\n",
    "tips_df = sns.load_dataset('tips')\n"
   ]
  },
  {
   "cell_type": "code",
   "execution_count": 18,
   "id": "7e4e30fb",
   "metadata": {},
   "outputs": [
    {
     "data": {
      "text/plain": [
       "<seaborn.axisgrid.PairGrid at 0x235771d5310>"
      ]
     },
     "execution_count": 18,
     "metadata": {},
     "output_type": "execute_result"
    },
    {
     "data": {
      "image/png": "[encoded data removed]",
      "text/plain": [
       "<Figure size 612.125x540 with 12 Axes>"
      ]
     },
     "metadata": {
      "needs_background": "light"
     },
     "output_type": "display_data"
    }
   ],
   "source": [
    "sns.pairplot(tips_df, hue='sex')"
   ]
  },
  {
   "cell_type": "markdown",
   "id": "90477484",
   "metadata": {},
   "source": [
    "# rug plot"
   ]
  },
  {
   "cell_type": "code",
   "execution_count": 19,
   "id": "9c85d63f",
   "metadata": {},
   "outputs": [
    {
     "data": {
      "text/plain": [
       "<matplotlib.axes._subplots.AxesSubplot at 0x235794e4190>"
      ]
     },
     "execution_count": 19,
     "metadata": {},
     "output_type": "execute_result"
    },
    {
     "data": {
      "image/png": "[encoded data removed]",
      "text/plain": [
       "<Figure size 432x288 with 1 Axes>"
      ]
     },
     "metadata": {
      "needs_background": "light"
     },
     "output_type": "display_data"
    }
   ],
   "source": [
    "## A 1d histogram?\n",
    "sns.rugplot(tips_df['tip'])"
   ]
  },
  {
   "cell_type": "markdown",
   "id": "6e38f193",
   "metadata": {},
   "source": [
    "## Styling"
   ]
  },
  {
   "cell_type": "code",
   "execution_count": 33,
   "id": "80e09510",
   "metadata": {},
   "outputs": [
    {
     "data": {
      "text/plain": [
       "<Figure size 360x360 with 0 Axes>"
      ]
     },
     "metadata": {},
     "output_type": "display_data"
    },
    {
     "data": {
      "image/png": "[encoded data removed]",
      "text/plain": [
       "<Figure size 432x432 with 3 Axes>"
      ]
     },
     "metadata": {},
     "output_type": "display_data"
    }
   ],
   "source": [
    "sns.set_style('darkgrid')\n",
    "plt.figure(figsize=(5,5))\n",
    "sns.set_context(context='talk')\n",
    "sns.jointplot(x='speeding', y='alcohol',data=crash_df, kind='reg')\n",
    "plt.gca().set_xlim(1,10)\n",
    "plt.show()"
   ]
  },
  {
   "cell_type": "code",
   "execution_count": 151,
   "id": "8e58cd08",
   "metadata": {},
   "outputs": [],
   "source": [
    "class Plotter:\n",
    "    \"\"\"\n",
    "    Docstring for Plotter.\n",
    "\n",
    "        kwards:\n",
    "            df :\n",
    "    \"\"\"\n",
    "\n",
    "    def __init__(self,**kwargs):\n",
    "        self.df = kwargs.get('df')\n",
    "\n",
    "    def plot_horizontal_bar(self, categorical_column, **kwargs):\n",
    "        \"\"\"\n",
    "        Plots horizontal barplots for a categorical column\n",
    "        **kwargs:\n",
    "            df : Pandas DataFrame\n",
    "            ax or axis :\n",
    "            fig or figure : figure object\n",
    "            title : title of the plot\n",
    "            title_size : default = 18\n",
    "            subtitle :\n",
    "            xlabel or x_label\n",
    "            figsize :\n",
    "\n",
    "        \"\"\"\n",
    "\n",
    "        ax = kwargs.get('ax') if kwargs.get('ax') is not None else plt.gca()\n",
    "        print(ax)\n",
    "        fig = kwargs.get('fig' and 'figure') if kwargs.get('fig' and 'figure') is not None else plt.gcf()\n",
    "        w,h = kwargs.get('figsize') if kwargs.get('figsize') is not None else (10,7)\n",
    "        #fig.set_figheight(h)\n",
    "        #fig.set_figwidth(w)\n",
    "        self.df = kwargs.get('df')\n",
    "\n",
    "        ## Change this for different cmaps\n",
    "        mpl.pyplot.viridis()\n",
    "\n",
    "        plot_title = kwargs.get('title') if kwargs.get('title') is not None else categorical_column + ' Counts'\n",
    "\n",
    "        if self.df is None:\n",
    "            raise ValueError('No DataFrame found. Set Parameter df = datframe.')\n",
    "\n",
    "        # Value counts\n",
    "        vc = self.df[categorical_column].value_counts(dropna=True)\n",
    "        index = vc.keys()\n",
    "        values = vc.values\n",
    "\n",
    "        title_size = kwargs.get('title_size') if kwargs.get('title_size') is not None else 18\n",
    "\n",
    "        bars = ax.barh(index, values)\n",
    "        \n",
    "        #plt.tight_layout()\n",
    "        ax.xaxis.set_major_formatter(mpl.ticker.StrMethodFormatter('{x:,.0f}'))\n",
    "\n",
    "        title = ax.set_title(plot_title, pad=20, fontsize=title_size)\n",
    "        title.set_position([.33, 1])\n",
    "\n",
    "        # plt.subplots_adjust(top=0.9, bottom=0.1)\n",
    "\n",
    "        ax.grid(zorder=0)\n",
    "\n",
    "        self.gradientbars(bars)\n",
    "\n",
    "        rects = ax.patches\n",
    "\n",
    "        # Place a label each bar\n",
    "        for rect in rects:\n",
    "            # Get X and Y placement of label from rect\n",
    "            x_value = rect.get_width()\n",
    "            y_value = rect.get_y() + rect.get_height() / 2\n",
    "\n",
    "            # Number of points between bar and label; change to your liking\n",
    "            space = 10\n",
    "            # Vertical alignment for positive values\n",
    "            ha = 'left'\n",
    "\n",
    "            # If value of bar is negative: place label to the left of the bar\n",
    "            if x_value < 0:\n",
    "                # Invert space to place label to the left\n",
    "                space *= -1\n",
    "                # Horizontally align label to the right\n",
    "                ha = 'right'\n",
    "\n",
    "            # Use X value as label and format number\n",
    "            label = '{:,.0f}'.format(x_value)\n",
    "\n",
    "            # Create annotation\n",
    "            plt.annotate(\n",
    "                label,                      # Use `label` as label\n",
    "                (x_value, y_value),         # Place label at bar end\n",
    "                xytext=(space, 0),          # Horizontally shift label by `space`\n",
    "                textcoords='data', # Interpret `xytext` as offset in points\n",
    "                va='center',                # Vertically center label\n",
    "                ha=ha,                      # Horizontally align label differently for positive and negative values\n",
    "            color = 'red')            # Change label color to white\n",
    "\n",
    "\n",
    "        x_label = kwargs.get('xlabel' and 'x_label') if kwargs.get('xlabel' and 'x_label') is not None else 'Counts'\n",
    "        #Set x-label\n",
    "        ax.set_xlabel(x_label, color='#525252')\n",
    "        ax.set_xlim(values.min(), values.max()+10)\n",
    "\n",
    "    def gradientbars(self, bars):\n",
    "        \"\"\"\n",
    "        Used exclusively in plot_horizontal_bar\n",
    "\n",
    "        \"\"\"\n",
    "        grad = np.atleast_2d(np.linspace(0,1,256))\n",
    "        axz = bars[0].axes\n",
    "        lim = axz.get_xlim()+axz.get_ylim()\n",
    "        for bar in bars:\n",
    "            bar.set_zorder(1)\n",
    "            bar.set_facecolor('none')\n",
    "            x, y = bar.get_xy()\n",
    "            w, h = bar.get_width(), bar.get_height()\n",
    "            axz.imshow(grad, extent=[x+w, x, y, y+h], aspect='auto', zorder=1)\n",
    "        axz.axis(lim)"
   ]
  },
  {
   "cell_type": "code",
   "execution_count": 152,
   "id": "07551eb6",
   "metadata": {},
   "outputs": [],
   "source": [
    "import numpy as np\n",
    "import pandas as pd\n",
    "import matplotlib.pyplot as plt\n",
    "import seaborn as sns"
   ]
  },
  {
   "cell_type": "code",
   "execution_count": 153,
   "id": "5d086bc7",
   "metadata": {},
   "outputs": [],
   "source": [
    "df = sns.load_dataset('tips')"
   ]
  },
  {
   "cell_type": "code",
   "execution_count": 154,
   "id": "7ef18464",
   "metadata": {},
   "outputs": [
    {
     "data": {
      "text/plain": [
       "Dinner    176\n",
       "Lunch      68\n",
       "Name: time, dtype: int64"
      ]
     },
     "execution_count": 154,
     "metadata": {},
     "output_type": "execute_result"
    }
   ],
   "source": [
    "df['time'].value_counts()"
   ]
  },
  {
   "cell_type": "code",
   "execution_count": 155,
   "id": "4fd43672",
   "metadata": {},
   "outputs": [],
   "source": [
    "pl = Plotter()"
   ]
  },
  {
   "cell_type": "code",
   "execution_count": 156,
   "id": "11263fd9",
   "metadata": {},
   "outputs": [],
   "source": [
    "import matplotlib as mpl"
   ]
  },
  {
   "cell_type": "code",
   "execution_count": 160,
   "id": "41c7a2c9",
   "metadata": {},
   "outputs": [
    {
     "name": "stdout",
     "output_type": "stream",
     "text": [
      "AxesSubplot(0.547727,0.125;0.352273x0.755)\n"
     ]
    },
    {
     "data": {
      "text/plain": [
       "<matplotlib.collections.PathCollection at 0x1a250131d30>"
      ]
     },
     "execution_count": 160,
     "metadata": {},
     "output_type": "execute_result"
    },
    {
     "data": {
      "image/png": "[encoded data removed]",
      "text/plain": [
       "<Figure size 720x360 with 2 Axes>"
      ]
     },
     "metadata": {
      "needs_background": "light"
     },
     "output_type": "display_data"
    }
   ],
   "source": [
    "fig,ax = plt.subplots(1,2,figsize=(10,5))\n",
    "\n",
    "\n",
    "pl.plot_horizontal_bar(categorical_column= 'sex',\n",
    "                      df =df,ax=ax[1])\n",
    "\n",
    "ax[0].scatter(df['tip'],df['total_bill'])\n",
    "\n",
    "\n",
    "\n"
   ]
  },
  {
   "cell_type": "code",
   "execution_count": 128,
   "id": "7e39d7eb",
   "metadata": {},
   "outputs": [
    {
     "ename": "SyntaxError",
     "evalue": "invalid syntax (<ipython-input-128-c634ae9e6d17>, line 1)",
     "output_type": "error",
     "traceback": [
      "\u001b[1;36m  File \u001b[1;32m\"<ipython-input-128-c634ae9e6d17>\"\u001b[1;36m, line \u001b[1;32m1\u001b[0m\n\u001b[1;33m    plt.AxesSubplot(0.125,0.125;0.352273x0.755)\u001b[0m\n\u001b[1;37m                               ^\u001b[0m\n\u001b[1;31mSyntaxError\u001b[0m\u001b[1;31m:\u001b[0m invalid syntax\n"
     ]
    }
   ],
   "source": [
    "plt.AxesSubplot(0.125,0.125;0.352273x0.755)\n",
    "\n",
    "AxesSubplot(0.547727,0.125;0.352273x0.755)"
   ]
  },
  {
   "cell_type": "code",
   "execution_count": 248,
   "id": "bb0583cf",
   "metadata": {},
   "outputs": [],
   "source": [
    "class Node:\n",
    "    def __init__(self, data = None):\n",
    "        self.data = data\n",
    "        self.next = None\n",
    "\n",
    "\n",
    "class LinkedList:\n",
    "    def __init__(self):\n",
    "        self.head = Node()\n",
    "\n",
    "    def append(self, data):\n",
    "        # Creating a new node with the data\n",
    "        new_node = Node(data)\n",
    "\n",
    "        cur = self.head\n",
    "        while cur.next != None:\n",
    "            cur = cur.next\n",
    "\n",
    "        cur.next = new_node\n",
    "\n",
    "    def __len__(self):\n",
    "        cur = self.head\n",
    "        total = 0\n",
    "        while cur.next!=None:\n",
    "            total+=1\n",
    "            cur = cur.next\n",
    "        return total\n",
    "\n",
    "    def __str__(self):\n",
    "        elems = []\n",
    "        cur_node = self.head\n",
    "        while cur_node.next != None:\n",
    "            cur_node = cur_node.next\n",
    "            elems.append(cur_node.data)\n",
    "        return str(elems)\n",
    "\n",
    "    def __repr__(self):\n",
    "        elems = []\n",
    "        cur_node = self.head\n",
    "        while cur_node.next != None:\n",
    "            cur_node = cur_node.next\n",
    "            elems.append(cur_node.data)\n",
    "        return 'linkedlist(' + str(elems) + ')'\n",
    "    \n",
    "    def __sum__(self):\n",
    "        cur = self.head\n",
    "        s = 0\n",
    "        while cur.next!=None:\n",
    "            s+=cur.data\n",
    "            cur = cur.next\n",
    "        return s"
   ]
  },
  {
   "cell_type": "code",
   "execution_count": 249,
   "id": "7394f18c",
   "metadata": {},
   "outputs": [
    {
     "data": {
      "text/plain": [
       "20"
      ]
     },
     "execution_count": 249,
     "metadata": {},
     "output_type": "execute_result"
    }
   ],
   "source": [
    "sum(np.array([10,10]))"
   ]
  },
  {
   "cell_type": "code",
   "execution_count": 250,
   "id": "d3f20973",
   "metadata": {},
   "outputs": [],
   "source": [
    "l = LinkedList()"
   ]
  },
  {
   "cell_type": "code",
   "execution_count": 251,
   "id": "007b6228",
   "metadata": {},
   "outputs": [],
   "source": [
    "l.append(10)"
   ]
  },
  {
   "cell_type": "code",
   "execution_count": 252,
   "id": "b942f3aa",
   "metadata": {},
   "outputs": [
    {
     "name": "stdout",
     "output_type": "stream",
     "text": [
      "[10]\n"
     ]
    }
   ],
   "source": [
    "print(l)"
   ]
  },
  {
   "cell_type": "code",
   "execution_count": 253,
   "id": "0eba7360",
   "metadata": {},
   "outputs": [],
   "source": [
    "l.append(20)"
   ]
  },
  {
   "cell_type": "code",
   "execution_count": 254,
   "id": "3123d9d8",
   "metadata": {},
   "outputs": [
    {
     "data": {
      "text/plain": [
       "2"
      ]
     },
     "execution_count": 254,
     "metadata": {},
     "output_type": "execute_result"
    }
   ],
   "source": [
    "len(l)"
   ]
  },
  {
   "cell_type": "code",
   "execution_count": 255,
   "id": "2369c069",
   "metadata": {},
   "outputs": [
    {
     "data": {
      "text/plain": [
       "linkedlist([10, 20])"
      ]
     },
     "execution_count": 255,
     "metadata": {},
     "output_type": "execute_result"
    }
   ],
   "source": [
    "l"
   ]
  },
  {
   "cell_type": "code",
   "execution_count": 256,
   "id": "68aef4a1",
   "metadata": {},
   "outputs": [
    {
     "ename": "AttributeError",
     "evalue": "'LinkedList' object has no attribute 'sum'",
     "output_type": "error",
     "traceback": [
      "\u001b[1;31m---------------------------------------------------------------------------\u001b[0m",
      "\u001b[1;31mAttributeError\u001b[0m                            Traceback (most recent call last)",
      "\u001b[1;32m<ipython-input-256-b5a1529f5d33>\u001b[0m in \u001b[0;36m<module>\u001b[1;34m\u001b[0m\n\u001b[1;32m----> 1\u001b[1;33m \u001b[0ml\u001b[0m\u001b[1;33m.\u001b[0m\u001b[0msum\u001b[0m\u001b[1;33m\u001b[0m\u001b[1;33m\u001b[0m\u001b[0m\n\u001b[0m",
      "\u001b[1;31mAttributeError\u001b[0m: 'LinkedList' object has no attribute 'sum'"
     ]
    }
   ],
   "source": [
    "l.sum"
   ]
  },
  {
   "cell_type": "markdown",
   "id": "a0e06667",
   "metadata": {},
   "source": [
    "# A fun project"
   ]
  },
  {
   "cell_type": "code",
   "execution_count": 5,
   "id": "bc4f1a75",
   "metadata": {},
   "outputs": [
    {
     "data": {
      "text/plain": [
       "'sparrow_2'"
      ]
     },
     "execution_count": 5,
     "metadata": {},
     "output_type": "execute_result"
    }
   ],
   "source": [
    "'sparrow_1'[:-1] + str(int('sparrow_1'[-1]) + 1)"
   ]
  }
 ],
 "metadata": {
  "kernelspec": {
   "display_name": "Python 3",
   "language": "python",
   "name": "python3"
  },
  "language_info": {
   "codemirror_mode": {
    "name": "ipython",
    "version": 3
   },
   "file_extension": ".py",
   "mimetype": "text/x-python",
   "name": "python",
   "nbconvert_exporter": "python",
   "pygments_lexer": "ipython3",
   "version": "3.8.0"
  }
 },
 "nbformat": 4,
 "nbformat_minor": 5
}
