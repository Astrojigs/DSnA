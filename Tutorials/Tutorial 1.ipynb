{
 "cells": [
  {
   "cell_type": "markdown",
   "id": "2056a4a1-8343-4b34-a73b-0521b12eacb2",
   "metadata": {},
   "source": [
    "# This is a heading"
   ]
  },
  {
   "cell_type": "code",
   "execution_count": 8,
   "id": "15e85def-691f-4e95-a348-fd83670ebd75",
   "metadata": {},
   "outputs": [
    {
     "name": "stdout",
     "output_type": "stream",
     "text": [
      "Hello World!\n"
     ]
    }
   ],
   "source": [
    "print(\"Hello World!\")"
   ]
  },
  {
   "cell_type": "code",
   "execution_count": 75,
   "id": "afdfe8ff-0b9c-4c0a-b91e-6b37664bf178",
   "metadata": {},
   "outputs": [
    {
     "data": {
      "text/plain": [
       "False"
      ]
     },
     "execution_count": 75,
     "metadata": {},
     "output_type": "execute_result"
    }
   ],
   "source": []
  },
  {
   "cell_type": "code",
   "execution_count": 47,
   "id": "1093289c-cd36-402b-958e-d010014374ed",
   "metadata": {},
   "outputs": [],
   "source": [
    "# Defining a boolean variable:\n",
    "\n",
    "did_it_rain_today = False"
   ]
  },
  {
   "cell_type": "code",
   "execution_count": 48,
   "id": "9f103e0a-914b-4496-8195-5082691a7c95",
   "metadata": {},
   "outputs": [
    {
     "name": "stdout",
     "output_type": "stream",
     "text": [
      "It did not rain today :(\n",
      "This is inside the condition\n",
      "This will run outside the condition, irrespective of the output of the condition.\n"
     ]
    }
   ],
   "source": [
    "if did_it_rain_today:\n",
    "    print('It rained today!')\n",
    "else:\n",
    "    print('It did not rain today :(')\n",
    "    print('This is inside the condition')\n",
    "\n",
    "\n",
    "print('This will run outside the condition, irrespective of the output of the condition.')"
   ]
  },
  {
   "cell_type": "code",
   "execution_count": 56,
   "id": "e25944cb-4832-415b-97d6-61e7f22db428",
   "metadata": {},
   "outputs": [],
   "source": [
    "# store limit\n",
    "store_tomatoes = 100\n",
    "\n",
    "# current tomato count for cathy\n",
    "cathys_tomatoes = 0\n"
   ]
  },
  {
   "cell_type": "markdown",
   "id": "3125eeb0-7753-4862-9e20-c709f89e792d",
   "metadata": {},
   "source": [
    "Code should return two items. \n",
    "\n",
    "- if it didn't rain -> return the number of tomatoes in cathy's possession and 'Cathy bought tomatoes'.\n",
    "- if it rained -> return 'Cathy did not buy any tomatoes'."
   ]
  },
  {
   "cell_type": "code",
   "execution_count": 60,
   "id": "471dd48c-0037-4ac2-9aac-b543e25cc9ad",
   "metadata": {},
   "outputs": [],
   "source": [
    "\n",
    "def solution(rained:bool):\n",
    "    \n",
    "    if rained:\n",
    "        print(\"Cathy did not buy any tomatoes\")\n",
    "        \n",
    "    else:\n",
    "        print(\"Cathy bought tomatoes\")\n",
    "        print(store_tomatoes)\n",
    "    \n",
    " \n",
    "    \n",
    "    return "
   ]
  },
  {
   "cell_type": "code",
   "execution_count": 61,
   "id": "4749e98e-db8e-4524-b961-5818c2779a4d",
   "metadata": {},
   "outputs": [
    {
     "name": "stdout",
     "output_type": "stream",
     "text": [
      "Cathy did not buy any tomatoes\n"
     ]
    }
   ],
   "source": [
    "# test cases\n",
    "solution(rained=True)"
   ]
  },
  {
   "cell_type": "code",
   "execution_count": 62,
   "id": "5a64b262-2b2f-4383-86ed-1f43ad4c92fa",
   "metadata": {},
   "outputs": [
    {
     "name": "stdout",
     "output_type": "stream",
     "text": [
      "Cathy bought tomatoes\n",
      "100\n"
     ]
    }
   ],
   "source": [
    "solution(rained=False)"
   ]
  },
  {
   "cell_type": "code",
   "execution_count": 72,
   "id": "0e0c01c9-e8e4-4198-811f-a378518638bd",
   "metadata": {},
   "outputs": [
    {
     "data": {
      "text/plain": [
       "'Catherine Maria Luiz'"
      ]
     },
     "execution_count": 72,
     "metadata": {},
     "output_type": "execute_result"
    }
   ],
   "source": [
    "'Catherine Maria Luiz'"
   ]
  },
  {
   "cell_type": "code",
   "execution_count": 67,
   "id": "a5036cdb-2c45-4397-a6d7-2c31449e8ac4",
   "metadata": {},
   "outputs": [
    {
     "name": "stdout",
     "output_type": "stream",
     "text": [
      "They are enjoying.\n"
     ]
    }
   ],
   "source": [
    "c = 'Physics'\n",
    "\n",
    "student_status = ''\n",
    "if c =='Physics':\n",
    "    student_status = 'They are enjoying.'\n",
    "elif c == 'Math':\n",
    "    student_status = 'They are sad.'\n",
    "else:\n",
    "    student_status = 'They are free to go'\n",
    "\n",
    "print(student_status)"
   ]
  },
  {
   "cell_type": "markdown",
   "id": "fae72812-4e9c-479a-a64d-6ae2fbe3fbb1",
   "metadata": {},
   "source": [
    "## List"
   ]
  },
  {
   "cell_type": "code",
   "execution_count": 76,
   "id": "60c3b11c-e5ab-421f-8a09-92f262e472a9",
   "metadata": {},
   "outputs": [],
   "source": [
    "l = [1,2,3,'this is a string', 6.8, False]"
   ]
  },
  {
   "cell_type": "code",
   "execution_count": 79,
   "id": "5f03c89f-e5d5-48bc-8978-64f4f0f5d3ea",
   "metadata": {},
   "outputs": [
    {
     "name": "stdout",
     "output_type": "stream",
     "text": [
      "[1, 2, 3, 'this is a string', 6.8, False]\n"
     ]
    }
   ],
   "source": [
    "# printing a list\n",
    "print(l)"
   ]
  },
  {
   "cell_type": "code",
   "execution_count": 80,
   "id": "06b100ef-9248-43c2-b859-508b4acbf82e",
   "metadata": {},
   "outputs": [
    {
     "data": {
      "text/plain": [
       "list"
      ]
     },
     "execution_count": 80,
     "metadata": {},
     "output_type": "execute_result"
    }
   ],
   "source": [
    "# Data Type of a list\n",
    "type(l)"
   ]
  },
  {
   "cell_type": "code",
   "execution_count": 92,
   "id": "c8917400-467f-4429-b45c-d9bb1e4f944d",
   "metadata": {},
   "outputs": [
    {
     "data": {
      "text/plain": [
       "['this is a string', 6.8]"
      ]
     },
     "execution_count": 92,
     "metadata": {},
     "output_type": "execute_result"
    }
   ],
   "source": [
    "# We want to extract certain element (aka object) from out list.\n",
    "\n",
    "\n",
    "l[3:5]"
   ]
  },
  {
   "cell_type": "code",
   "execution_count": 95,
   "id": "114224fb-ac71-4c87-aca3-61741145724a",
   "metadata": {},
   "outputs": [],
   "source": [
    "girl_details = ['Catherine', 'Luiz', 25, 'Female']"
   ]
  },
  {
   "cell_type": "code",
   "execution_count": 97,
   "id": "282ee76b-be96-4173-820c-44df1512aa8f",
   "metadata": {},
   "outputs": [],
   "source": [
    "# Change element inside the list\n",
    "\n",
    "girl_details[-1] = 'Megatron'"
   ]
  },
  {
   "cell_type": "code",
   "execution_count": 98,
   "id": "acb72141-acca-427c-a00e-79d41c99c7e6",
   "metadata": {},
   "outputs": [
    {
     "data": {
      "text/plain": [
       "['Catherine', 'Luiz', 25, 'Megatron']"
      ]
     },
     "execution_count": 98,
     "metadata": {},
     "output_type": "execute_result"
    }
   ],
   "source": [
    "girl_details"
   ]
  },
  {
   "cell_type": "code",
   "execution_count": 100,
   "id": "41623170-a588-455c-8c15-14d3d7165fd2",
   "metadata": {},
   "outputs": [],
   "source": [
    "# Tuple\n",
    "t = (1,2,3,'Orange')"
   ]
  },
  {
   "cell_type": "code",
   "execution_count": 103,
   "id": "afcfb3b6-7e2c-4bc6-9aae-8d939771dd89",
   "metadata": {},
   "outputs": [
    {
     "ename": "TypeError",
     "evalue": "'tuple' object does not support item assignment",
     "output_type": "error",
     "traceback": [
      "\u001b[1;31m---------------------------------------------------------------------------\u001b[0m",
      "\u001b[1;31mTypeError\u001b[0m                                 Traceback (most recent call last)",
      "Cell \u001b[1;32mIn[103], line 1\u001b[0m\n\u001b[1;32m----> 1\u001b[0m \u001b[43mt\u001b[49m\u001b[43m[\u001b[49m\u001b[38;5;241;43m1\u001b[39;49m\u001b[43m]\u001b[49m \u001b[38;5;241m=\u001b[39m \u001b[38;5;124m'\u001b[39m\u001b[38;5;124mBum salad\u001b[39m\u001b[38;5;124m'\u001b[39m\n",
      "\u001b[1;31mTypeError\u001b[0m: 'tuple' object does not support item assignment"
     ]
    }
   ],
   "source": [
    "t[1] = 'Bum salad'"
   ]
  },
  {
   "cell_type": "code",
   "execution_count": 107,
   "id": "51a15389-b6f3-4475-8b1a-87460415975d",
   "metadata": {},
   "outputs": [
    {
     "name": "stdout",
     "output_type": "stream",
     "text": [
      "Mahesh is 23 years old\n",
      "Akash is 45 years old\n",
      "Subramaniyum is 34 years old\n",
      "Bin Lady is 12 years old\n",
      "Dolund Truimph is 9 years old\n"
     ]
    }
   ],
   "source": [
    "age = [23,45,34,12,9]\n",
    "names = ['Mahesh', 'Akash', 'Subramaniyum', 'Bin Lady', 'Dolund Truimph']\n",
    "\n",
    "print(f\"{names[0]} is {age[0]} years old\")\n",
    "print(f\"{names[1]} is {age[1]} years old\")\n",
    "print(f\"{names[2]} is {age[2]} years old\")\n",
    "print(f\"{names[3]} is {age[3]} years old\")\n",
    "print(f\"{names[4]} is {age[4]} years old\")\n"
   ]
  },
  {
   "cell_type": "markdown",
   "id": "44569faf-a0e7-4ebb-9eb6-8c4ed0b39da7",
   "metadata": {},
   "source": [
    "Loops will take care of this situation for us"
   ]
  },
  {
   "cell_type": "code",
   "execution_count": 109,
   "id": "b2f7e974-b8c4-4b3c-be9d-4d20b44bba60",
   "metadata": {},
   "outputs": [
    {
     "data": {
      "text/plain": [
       "5"
      ]
     },
     "execution_count": 109,
     "metadata": {},
     "output_type": "execute_result"
    }
   ],
   "source": [
    "len(age)"
   ]
  },
  {
   "cell_type": "code",
   "execution_count": 111,
   "id": "1dd46a27-7f7b-491a-99cb-c11f02a598ae",
   "metadata": {},
   "outputs": [
    {
     "name": "stdout",
     "output_type": "stream",
     "text": [
      "Mahesh is 23 years old\n",
      "Akash is 45 years old\n",
      "Subramaniyum is 34 years old\n",
      "Bin Lady is 12 years old\n",
      "Dolund Truimph is 9 years old\n"
     ]
    }
   ],
   "source": [
    "for x in range(len(age)):\n",
    "    print(f\"{names[x]} is {age[x]} years old\")"
   ]
  },
  {
   "cell_type": "markdown",
   "id": "2bf566c2-fb03-4dc6-b9e7-e6ed785d6c35",
   "metadata": {},
   "source": [
    "## Python Learning Guide for Catherine\n",
    "\n",
    "Welcome, Catherine! Let’s learn Python step by step. We’ll keep things simple but clear.\n",
    "\n",
    "1. **Basic Object Types**\n",
    "2. **Conditionals (`if`, `else`)**\n",
    "3. **Lists**\n",
    "4. **Tuples**\n",
    "5. **For Loops**\n",
    "6. **While Loops**\n",
    "7. **Functions**\n",
    "8. **Input & Output**\n",
    "\n",
    "---\n",
    "\n",
    "### 1. Basic Object Types\n",
    "\n",
    "Python stores different kinds of data in **objects**. Here are the most common:\n",
    "\n",
    "* **int**: whole numbers, like `5` or `-2`.\n",
    "* **float**: decimal numbers, like `3.14` or `0.5`.\n",
    "* **str**: text in quotes, like `'hello'` or `\"Python\"`.\n",
    "* **bool**: `True` or `False`.\n",
    "\n",
    "```python\n",
    "age = 5            # int\n",
    "temperature = 36.6 # float\n",
    "name = \"Catherine\" # str\n",
    "is_happy = True    # bool\n",
    "```\n",
    "\n",
    "**Practice**: Create one variable of each type. Use `print()` and `type()` to show its value and type.\n",
    "\n",
    "---\n",
    "\n",
    "### 2. Conditionals (`if`, `else`)\n",
    "\n",
    "Make decisions in your code based on conditions.\n",
    "\n",
    "```python\n",
    "if condition:\n",
    "    # do this if condition is True\n",
    "else:\n",
    "    # do this if condition is False\n",
    "```\n",
    "\n",
    "**Example**: Check if a number is even or odd.\n",
    "\n",
    "```python\n",
    "number = 7\n",
    "if number % 2 == 0:\n",
    "    print(\"Even\")\n",
    "else:\n",
    "    print(\"Odd\")\n",
    "```\n",
    "\n",
    "**Practice**:\n",
    "\n",
    "* Print “Positive” if a number > 0.\n",
    "* Print “Zero” if it is 0.\n",
    "* Otherwise, print “Negative.”\n",
    "\n",
    "---\n",
    "\n",
    "### 3. Lists\n",
    "\n",
    "An **ordered**, **changeable** collection of items.\n",
    "\n",
    "```python\n",
    "fruits = [\"apple\", \"banana\", \"cherry\"]\n",
    "```\n",
    "\n",
    "* **Access**: `fruits[0]` → `'apple'`\n",
    "* **Add**: `fruits.append(\"date\")`\n",
    "* **Remove**: `fruits.pop()` removes last item\n",
    "\n",
    "**Practice**:\n",
    "\n",
    "* Make a list of your favorite foods.\n",
    "* Add one item, then remove the last item.\n",
    "\n",
    "---\n",
    "\n",
    "### 4. Tuples\n",
    "\n",
    "An **ordered**, **unchangeable** collection.\n",
    "\n",
    "```python\n",
    "point = (10, 20)\n",
    "```\n",
    "\n",
    "* **Access**: `point[0]` → `10`\n",
    "* **Cannot** add or remove items once set\n",
    "* **Useful** for fixed groups of values\n",
    "\n",
    "**Practice**:\n",
    "\n",
    "* Create a tuple with three numbers.\n",
    "* Try changing one element and see the error.\n",
    "\n",
    "---\n",
    "\n",
    "### 5. For Loops\n",
    "\n",
    "Repeat actions for each item in a sequence.\n",
    "\n",
    "```python\n",
    "for fruit in fruits:\n",
    "    print(fruit)\n",
    "```\n",
    "\n",
    "Use `range()` to loop a certain number of times:\n",
    "\n",
    "```python\n",
    "for i in range(3):  # i = 0,1,2\n",
    "    print(i)\n",
    "```\n",
    "\n",
    "**Practice**:\n",
    "\n",
    "* Print numbers 1 to 5.\n",
    "* Print each letter in the word \"Python.\"\n",
    "* Use a loop to print squares of numbers from 1 to 5.\n",
    "\n",
    "---\n",
    "\n",
    "### 6. While Loops\n",
    "\n",
    "Keep repeating **while** a condition is True.\n",
    "\n",
    "```python\n",
    "count = 3\n",
    "while count > 0:\n",
    "    print(count)\n",
    "    count -= 1\n",
    "print(\"Done!\")\n",
    "```\n",
    "\n",
    "**Practice**:\n",
    "\n",
    "* Countdown from 5 to 1, then print “Go!”\n",
    "* Ask the user to type \"yes\" and repeat until they do.\n",
    "\n",
    "---\n",
    "\n",
    "### 7. Functions\n",
    "\n",
    "Group reusable code into a named block.\n",
    "\n",
    "```python\n",
    "def greet(name):\n",
    "    return \"Hello, \" + name\n",
    "\n",
    "print(greet(\"Catherine\"))\n",
    "```\n",
    "\n",
    "* **def** starts a function\n",
    "* **parameters** go in `()`\n",
    "* **return** sends back a result\n",
    "\n",
    "**Practice**:\n",
    "\n",
    "* Write `add(a, b)` that returns `a + b`.\n",
    "* Write `is_even(n)` that returns `True` if `n` is even, else `False`.\n",
    "\n",
    "---\n",
    "\n",
    "### 8. Input & Output\n",
    "\n",
    "Interact with the user.\n",
    "\n",
    "* **print()** displays text or variables.\n",
    "* **input()** reads user input (always as a string).\n",
    "\n",
    "```python\n",
    "name = input(\"Enter your name: \")\n",
    "print(\"Hello, \" + name)\n",
    "\n",
    "age = int(input(\"How old are you? \"))  # convert to int\n",
    "print(\"In 5 years you will be\", age + 5)\n",
    "```\n",
    "\n",
    "**Practice**:\n",
    "\n",
    "* Ask the user for two numbers and print their sum.\n",
    "* Ask for their favorite color and print a custom message.\n",
    "\n",
    "---\n",
    "\n",
    "You’ve now covered the essentials: basic types, decision-making, collections, loops, functions, and simple user interaction. Great work! Next, you can explore **dictionaries**, **list comprehensions**, and **modules** when you’re ready.\n"
   ]
  }
 ],
 "metadata": {
  "kernelspec": {
   "display_name": "Python 3 (ipykernel)",
   "language": "python",
   "name": "python3"
  },
  "language_info": {
   "codemirror_mode": {
    "name": "ipython",
    "version": 3
   },
   "file_extension": ".py",
   "mimetype": "text/x-python",
   "name": "python",
   "nbconvert_exporter": "python",
   "pygments_lexer": "ipython3",
   "version": "3.12.3"
  }
 },
 "nbformat": 4,
 "nbformat_minor": 5
}
