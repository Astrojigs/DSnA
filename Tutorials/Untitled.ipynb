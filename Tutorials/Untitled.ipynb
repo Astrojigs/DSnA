{
 "cells": [
  {
   "cell_type": "markdown",
   "id": "1f3731d6-1fc4-45ae-8d0a-c995e0b571ee",
   "metadata": {},
   "source": [
    "# Cathy Doubts"
   ]
  },
  {
   "cell_type": "code",
   "execution_count": 3,
   "id": "aba5d779-cc2b-481a-b949-607413fd8a57",
   "metadata": {},
   "outputs": [
    {
     "name": "stdin",
     "output_type": "stream",
     "text": [
      "What's the Tempeerature?\t 45\n"
     ]
    },
    {
     "name": "stdout",
     "output_type": "stream",
     "text": [
      "Damn nigga, it's hot af.\n"
     ]
    }
   ],
   "source": [
    "temp = float(input(\"What's the Tempeerature?\\t\"))\n",
    "\n",
    "if temp>30:\n",
    "    print(\"Damn nigga, it's hot af.\")\n",
    "elif 20< temp<=30:\n",
    "    print(\"It's Aight Homie.\")\n",
    "else:\n",
    "    print(\"Give me them damn mufflers!!\")"
   ]
  }
 ],
 "metadata": {
  "kernelspec": {
   "display_name": "Python 3 (ipykernel)",
   "language": "python",
   "name": "python3"
  },
  "language_info": {
   "codemirror_mode": {
    "name": "ipython",
    "version": 3
   },
   "file_extension": ".py",
   "mimetype": "text/x-python",
   "name": "python",
   "nbconvert_exporter": "python",
   "pygments_lexer": "ipython3",
   "version": "3.12.3"
  }
 },
 "nbformat": 4,
 "nbformat_minor": 5
}
